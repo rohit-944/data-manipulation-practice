{
 "cells": [
  {
   "cell_type": "markdown",
   "metadata": {},
   "source": [
    "Creating a String in Python"
   ]
  },
  {
   "cell_type": "code",
   "execution_count": 3,
   "metadata": {},
   "outputs": [
    {
     "name": "stdout",
     "output_type": "stream",
     "text": [
      "String with the use of Single Quotes: \n",
      "Hello, Welcome to the new World\n",
      "\n",
      "String with the use of Double Quotes: \n",
      "i am Rohit Kumar \n",
      "\n",
      "String with the use of Triple Quotes: \n",
      "I'm Rohit and I Like Coding\"\n",
      "\n",
      "Creating a multiline String: \n",
      "My\n",
      "Name\n",
      "Is \n",
      "Rohit\n"
     ]
    }
   ],
   "source": [
    "# Creating a String with single Quotes\n",
    "String1 = 'Hello, Welcome to the new World'\n",
    "print(\"String with the use of Single Quotes: \")\n",
    "print(String1)\n",
    "\n",
    "# Creating a String with double Quotes\n",
    "String1 = \"i am Rohit Kumar \"\n",
    "print(\"\\nString with the use of Double Quotes: \")\n",
    "print(String1)\n",
    "\n",
    "# Creating a String with triple Quotes\n",
    "String1 = '''I'm Rohit and I Like Coding\"'''\n",
    "print(\"\\nString with the use of Triple Quotes: \")\n",
    "print(String1)\n",
    "\n",
    "# Creating String with triple Quotes allows multiple lines\n",
    "String1 = '''My\n",
    "Name\n",
    "Is \n",
    "Rohit'''\n",
    "print(\"\\nCreating a multiline String: \")\n",
    "print(String1)"
   ]
  },
  {
   "cell_type": "markdown",
   "metadata": {},
   "source": [
    "Accessing characters in Python String"
   ]
  },
  {
   "cell_type": "code",
   "execution_count": 4,
   "metadata": {},
   "outputs": [
    {
     "name": "stdout",
     "output_type": "stream",
     "text": [
      "Initial String: \n",
      "Rohit Kumar\n",
      "\n",
      "First character of String is: \n",
      "R\n",
      "\n",
      "Last character of String is: \n",
      "r\n"
     ]
    }
   ],
   "source": [
    "# Python Program to Access haracters of String\n",
    "\n",
    "String1 = \"Rohit Kumar\"\n",
    "print(\"Initial String: \")\n",
    "print(String1)\n",
    "\n",
    "# Printing First character\n",
    "print(\"\\nFirst character of String is: \")\n",
    "print(String1[0])\n",
    "\n",
    "# Printing Last character\n",
    "print(\"\\nLast character of String is: \")\n",
    "print(String1[-1])"
   ]
  },
  {
   "cell_type": "markdown",
   "metadata": {},
   "source": [
    "Reversing a Python String"
   ]
  },
  {
   "cell_type": "code",
   "execution_count": 10,
   "metadata": {},
   "outputs": [
    {
     "name": "stdout",
     "output_type": "stream",
     "text": [
      "Reverse a string by writing [::-1]: \n",
      "ramuK tihoR\n",
      "\n",
      "Reverse the strinh using reversed and join function: \n",
      "ramuK tihoR\n"
     ]
    }
   ],
   "source": [
    "#Program to reverse a string\n",
    "print(\"Reverse a string by writing [::-1]: \")\n",
    "name = \"Rohit Kumar\"\n",
    "print(name[::-1])\n",
    "\n",
    "# Reverse the strinh using reversed and join function\n",
    "print(\"\\nReverse the strinh using reversed and join function: \")\n",
    "myname = \"\".join(reversed(name))\n",
    "\n",
    "print(myname)"
   ]
  },
  {
   "cell_type": "markdown",
   "metadata": {},
   "source": [
    "String Slicing"
   ]
  },
  {
   "cell_type": "code",
   "execution_count": 20,
   "metadata": {},
   "outputs": [
    {
     "name": "stdout",
     "output_type": "stream",
     "text": [
      "Initial String: \n",
      "My name is Rohit kumar\n",
      "\n",
      "Slicing characters from 3-16: \n",
      "name is Rohit\n",
      "\n",
      "Slicing characters between 0th and 5th last character: \n",
      "My name is Rohit \n"
     ]
    }
   ],
   "source": [
    "# Python Program to demonstrate String slicing\n",
    "\n",
    "# Creating a String\n",
    "String1 = \"My name is Rohit kumar\"\n",
    "print(\"Initial String: \")\n",
    "print(String1)\n",
    "\n",
    "# Printing 3rd to 16th character\n",
    "print(\"\\nSlicing characters from 3-16: \")\n",
    "print(String1[3:16])\n",
    "\n",
    "# Printing characters between 0th and 5th last character\n",
    "print(\"\\nSlicing characters between \" + \"0th and 5th last character: \")\n",
    "print(String1[0:-5])"
   ]
  },
  {
   "cell_type": "markdown",
   "metadata": {},
   "source": [
    "Deleting/Updating from a String"
   ]
  },
  {
   "cell_type": "code",
   "execution_count": 33,
   "metadata": {},
   "outputs": [
    {
     "name": "stdout",
     "output_type": "stream",
     "text": [
      "Initial String: \n",
      "Hello, I'm a Rohit Kumar\n",
      "\n",
      "Updating character at 0 to 5th Index: \n",
      "Good, I'm a Rohit Kumar\n",
      "Help, I'm a Rohit Kumar\n"
     ]
    }
   ],
   "source": [
    "# Python Program to Update character of a String\n",
    "\n",
    "String1 = \"Hello, I'm a Rohit Kumar\"\n",
    "print(\"Initial String: \")\n",
    "print(String1)\n",
    "\n",
    "# Updating a character of the String\n",
    "## As python strings are immutable, they don't support item updation directly\n",
    "### there are following two ways\n",
    "#1\n",
    "list1 = list(String1)\n",
    "list1[0:5] = 'Good'\n",
    "String2 = ''.join(list1)\n",
    "print(\"\\nUpdating character at 0 to 5th Index: \")\n",
    "print(String2)\n",
    "\n",
    "#2\n",
    "String3 = String1[0:2] + 'lp' + String1[5:]\n",
    "print(String3)"
   ]
  },
  {
   "cell_type": "code",
   "execution_count": 12,
   "metadata": {},
   "outputs": [
    {
     "name": "stdout",
     "output_type": "stream",
     "text": [
      "Initial String: \n",
      "Hello, I'm Rohit\n",
      "\n",
      "Updated String: \n",
      "Hello Rohit, Welcome to the New world\n",
      "\n",
      "\n",
      "\n",
      "Initial String: \n",
      "Hello, I'm Rohit\n",
      "\n",
      "Deleting character at 2nd Index: \n",
      "Helo, I'm Rohit\n"
     ]
    }
   ],
   "source": [
    "# Python Program to Update entire String\n",
    "\n",
    "String1 = \"Hello, I'm Rohit\"\n",
    "print(\"Initial String: \")\n",
    "print(String1)\n",
    "\n",
    "# Updating a String\n",
    "String1 = \"Hello Rohit, Welcome to the New world\"\n",
    "print(\"\\nUpdated String: \")\n",
    "print(String1)\n",
    "print(\"\\n\\n\")\n",
    "\n",
    "\n",
    "\n",
    "# Python Program to Delete characters from a String\n",
    "\n",
    "String1 = \"Hello, I'm Rohit\"\n",
    "print(\"Initial String: \")\n",
    "print(String1)\n",
    "\n",
    "# Deleting a character of the String\n",
    "String2 = String1[0:2] + String1[3:]\n",
    "print(\"\\nDeleting character at 2nd Index: \")\n",
    "print(String2)\n"
   ]
  },
  {
   "cell_type": "markdown",
   "metadata": {},
   "source": [
    "Formatting of Strings"
   ]
  },
  {
   "cell_type": "code",
   "execution_count": 14,
   "metadata": {},
   "outputs": [
    {
     "name": "stdout",
     "output_type": "stream",
     "text": [
      "Print String in default order: \n",
      "Rohit Kumar Sharma\n",
      "\n",
      "Print String in Positional order: \n",
      "Kumar Rohit Sharma\n",
      "\n",
      "Print String in order of Keywords: \n",
      "Sharma Kumar Rohit\n"
     ]
    }
   ],
   "source": [
    "# Python Program for Formatting of Strings\n",
    "\n",
    "# Default order\n",
    "String1 = \"{} {} {}\".format('Rohit', 'Kumar', 'Sharma')\n",
    "print(\"Print String in default order: \")\n",
    "print(String1)\n",
    "\n",
    "# Positional Formatting\n",
    "String1 = \"{1} {0} {2}\".format('Rohit', 'Kumar', 'Sharma')\n",
    "print(\"\\nPrint String in Positional order: \")\n",
    "print(String1)\n",
    "\n",
    "# Keyword Formatting\n",
    "String1 = \"{l} {f} {g}\".format(g='Rohit', f='Kumar', l='Sharma')\n",
    "print(\"\\nPrint String in order of Keywords: \")\n",
    "print(String1)"
   ]
  },
  {
   "cell_type": "code",
   "execution_count": 15,
   "metadata": {},
   "outputs": [
    {
     "name": "stdout",
     "output_type": "stream",
     "text": [
      "\n",
      "Binary representation of 16 is \n",
      "10000\n",
      "\n",
      "Exponent representation of 165.6458 is \n",
      "1.656458e+02\n",
      "\n",
      "one-sixth is : \n",
      "0.17\n"
     ]
    }
   ],
   "source": [
    "# Formatting of Integers\n",
    "String1 = \"{0:b}\".format(16)\n",
    "print(\"\\nBinary representation of 16 is \")\n",
    "print(String1)\n",
    "\n",
    "# Formatting of Floats\n",
    "String1 = \"{0:e}\".format(165.6458)\n",
    "print(\"\\nExponent representation of 165.6458 is \")\n",
    "print(String1)\n",
    "\n",
    "# Rounding off Integers\n",
    "String1 = \"{0:.2f}\".format(1/6)\n",
    "print(\"\\none-sixth is : \")\n",
    "print(String1)"
   ]
  },
  {
   "cell_type": "markdown",
   "metadata": {},
   "source": [
    "PYTHON STRING METHODS:"
   ]
  }
 ],
 "metadata": {
  "kernelspec": {
   "display_name": "Python 3",
   "language": "python",
   "name": "python3"
  },
  "language_info": {
   "codemirror_mode": {
    "name": "ipython",
    "version": 3
   },
   "file_extension": ".py",
   "mimetype": "text/x-python",
   "name": "python",
   "nbconvert_exporter": "python",
   "pygments_lexer": "ipython3",
   "version": "3.12.6"
  }
 },
 "nbformat": 4,
 "nbformat_minor": 2
}
