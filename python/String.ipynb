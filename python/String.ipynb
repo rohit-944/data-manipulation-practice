{
 "cells": [
  {
   "cell_type": "code",
   "execution_count": 31,
   "metadata": {},
   "outputs": [],
   "source": [
    "# PYTHON STRING METHODS:-\n",
    "\n",
    "# 1. find(\"string\", beg, end) \n",
    "# 2. rfind(\"string\", beg, end) \n",
    "# 3. startswith(\"string\", beg, end)  \n",
    "# 4. endswith(\"string\", beg, end) \n",
    "# 5. islower(\"string\") \n",
    "# 6. isupper(\"string\") \n",
    "# 7. lower() \n",
    "# 8. upper()  \n",
    "# 9. swapcase() \n",
    "# 10. title() \n",
    "# 11. len()  \n",
    "# 12. count(\"string\", beg, end)  \n",
    "# 13. center() \n",
    "# 14. ljust()   \n",
    "# 15. rjust() \n",
    "# 16. isalpha() \n",
    "# 17. isalnum()  \n",
    "# 18. isspace() \n",
    "# 19. join() \n",
    "# 20. strip() \n",
    "# 21. lstrip() \n",
    "# 22. rstrip()\n",
    "# 23. min(\"string\")\n",
    "# 24. max(\"string\") \n",
    "# 25. maketrans()  \n",
    "# 26. translate()\n",
    "# 27. replace()\n",
    "# 28. expandtabs()\n",
    "# 29. OrderedDict.fromkeys(str) - Function to remove all duplicates from string and keep the order of characters same"
   ]
  },
  {
   "cell_type": "markdown",
   "metadata": {},
   "source": [
    "Creating a String in Python"
   ]
  },
  {
   "cell_type": "code",
   "execution_count": 3,
   "metadata": {},
   "outputs": [
    {
     "name": "stdout",
     "output_type": "stream",
     "text": [
      "String with the use of Single Quotes: \n",
      "Hello, Welcome to the new World\n",
      "\n",
      "String with the use of Double Quotes: \n",
      "i am Rohit Kumar \n",
      "\n",
      "String with the use of Triple Quotes: \n",
      "I'm Rohit and I Like Coding\"\n",
      "\n",
      "Creating a multiline String: \n",
      "My\n",
      "Name\n",
      "Is \n",
      "Rohit\n"
     ]
    }
   ],
   "source": [
    "# Creating a String with single Quotes\n",
    "String1 = 'Hello, Welcome to the new World'\n",
    "print(\"String with the use of Single Quotes: \")\n",
    "print(String1)\n",
    "\n",
    "# Creating a String with double Quotes\n",
    "String1 = \"i am Rohit Kumar \"\n",
    "print(\"\\nString with the use of Double Quotes: \")\n",
    "print(String1)\n",
    "\n",
    "# Creating a String with triple Quotes\n",
    "String1 = '''I'm Rohit and I Like Coding\"'''\n",
    "print(\"\\nString with the use of Triple Quotes: \")\n",
    "print(String1)\n",
    "\n",
    "# Creating String with triple Quotes allows multiple lines\n",
    "String1 = '''My\n",
    "Name\n",
    "Is \n",
    "Rohit'''\n",
    "print(\"\\nCreating a multiline String: \")\n",
    "print(String1)"
   ]
  },
  {
   "cell_type": "markdown",
   "metadata": {},
   "source": [
    "Accessing characters in Python String"
   ]
  },
  {
   "cell_type": "code",
   "execution_count": 4,
   "metadata": {},
   "outputs": [
    {
     "name": "stdout",
     "output_type": "stream",
     "text": [
      "Initial String: \n",
      "Rohit Kumar\n",
      "\n",
      "First character of String is: \n",
      "R\n",
      "\n",
      "Last character of String is: \n",
      "r\n"
     ]
    }
   ],
   "source": [
    "# Python Program to Access haracters of String\n",
    "\n",
    "String1 = \"Rohit Kumar\"\n",
    "print(\"Initial String: \")\n",
    "print(String1)\n",
    "\n",
    "# Printing First character\n",
    "print(\"\\nFirst character of String is: \")\n",
    "print(String1[0])\n",
    "\n",
    "# Printing Last character\n",
    "print(\"\\nLast character of String is: \")\n",
    "print(String1[-1])"
   ]
  },
  {
   "cell_type": "markdown",
   "metadata": {},
   "source": [
    "Reversing a Python String"
   ]
  },
  {
   "cell_type": "code",
   "execution_count": 10,
   "metadata": {},
   "outputs": [
    {
     "name": "stdout",
     "output_type": "stream",
     "text": [
      "Reverse a string by writing [::-1]: \n",
      "ramuK tihoR\n",
      "\n",
      "Reverse the strinh using reversed and join function: \n",
      "ramuK tihoR\n"
     ]
    }
   ],
   "source": [
    "#Program to reverse a string\n",
    "print(\"Reverse a string by writing [::-1]: \")\n",
    "name = \"Rohit Kumar\"\n",
    "print(name[::-1])\n",
    "\n",
    "# Reverse the strinh using reversed and join function\n",
    "print(\"\\nReverse the strinh using reversed and join function: \")\n",
    "myname = \"\".join(reversed(name))\n",
    "\n",
    "print(myname)"
   ]
  },
  {
   "cell_type": "markdown",
   "metadata": {},
   "source": [
    "String Slicing"
   ]
  },
  {
   "cell_type": "code",
   "execution_count": 20,
   "metadata": {},
   "outputs": [
    {
     "name": "stdout",
     "output_type": "stream",
     "text": [
      "Initial String: \n",
      "My name is Rohit kumar\n",
      "\n",
      "Slicing characters from 3-16: \n",
      "name is Rohit\n",
      "\n",
      "Slicing characters between 0th and 5th last character: \n",
      "My name is Rohit \n"
     ]
    }
   ],
   "source": [
    "# Python Program to demonstrate String slicing\n",
    "\n",
    "# Creating a String\n",
    "String1 = \"My name is Rohit kumar\"\n",
    "print(\"Initial String: \")\n",
    "print(String1)\n",
    "\n",
    "# Printing 3rd to 16th character\n",
    "print(\"\\nSlicing characters from 3-16: \")\n",
    "print(String1[3:16])\n",
    "\n",
    "# Printing characters between 0th and 5th last character\n",
    "print(\"\\nSlicing characters between \" + \"0th and 5th last character: \")\n",
    "print(String1[0:-5])"
   ]
  },
  {
   "cell_type": "markdown",
   "metadata": {},
   "source": [
    "Deleting/Updating from a String"
   ]
  },
  {
   "cell_type": "code",
   "execution_count": 33,
   "metadata": {},
   "outputs": [
    {
     "name": "stdout",
     "output_type": "stream",
     "text": [
      "Initial String: \n",
      "Hello, I'm a Rohit Kumar\n",
      "\n",
      "Updating character at 0 to 5th Index: \n",
      "Good, I'm a Rohit Kumar\n",
      "Help, I'm a Rohit Kumar\n"
     ]
    }
   ],
   "source": [
    "# Python Program to Update character of a String\n",
    "\n",
    "String1 = \"Hello, I'm a Rohit Kumar\"\n",
    "print(\"Initial String: \")\n",
    "print(String1)\n",
    "\n",
    "# Updating a character of the String\n",
    "## As python strings are immutable, they don't support item updation directly\n",
    "### there are following two ways\n",
    "#1\n",
    "list1 = list(String1)\n",
    "list1[0:5] = 'Good'\n",
    "String2 = ''.join(list1)\n",
    "print(\"\\nUpdating character at 0 to 5th Index: \")\n",
    "print(String2)\n",
    "\n",
    "#2\n",
    "String3 = String1[0:2] + 'lp' + String1[5:]\n",
    "print(String3)"
   ]
  },
  {
   "cell_type": "code",
   "execution_count": 12,
   "metadata": {},
   "outputs": [
    {
     "name": "stdout",
     "output_type": "stream",
     "text": [
      "Initial String: \n",
      "Hello, I'm Rohit\n",
      "\n",
      "Updated String: \n",
      "Hello Rohit, Welcome to the New world\n",
      "\n",
      "\n",
      "\n",
      "Initial String: \n",
      "Hello, I'm Rohit\n",
      "\n",
      "Deleting character at 2nd Index: \n",
      "Helo, I'm Rohit\n"
     ]
    }
   ],
   "source": [
    "# Python Program to Update entire String\n",
    "\n",
    "String1 = \"Hello, I'm Rohit\"\n",
    "print(\"Initial String: \")\n",
    "print(String1)\n",
    "\n",
    "# Updating a String\n",
    "String1 = \"Hello Rohit, Welcome to the New world\"\n",
    "print(\"\\nUpdated String: \")\n",
    "print(String1)\n",
    "print(\"\\n\\n\")\n",
    "\n",
    "\n",
    "\n",
    "# Python Program to Delete characters from a String\n",
    "\n",
    "String1 = \"Hello, I'm Rohit\"\n",
    "print(\"Initial String: \")\n",
    "print(String1)\n",
    "\n",
    "# Deleting a character of the String\n",
    "String2 = String1[0:2] + String1[3:]\n",
    "print(\"\\nDeleting character at 2nd Index: \")\n",
    "print(String2)\n"
   ]
  },
  {
   "cell_type": "markdown",
   "metadata": {},
   "source": [
    "Formatting of Strings"
   ]
  },
  {
   "cell_type": "code",
   "execution_count": 14,
   "metadata": {},
   "outputs": [
    {
     "name": "stdout",
     "output_type": "stream",
     "text": [
      "Print String in default order: \n",
      "Rohit Kumar Sharma\n",
      "\n",
      "Print String in Positional order: \n",
      "Kumar Rohit Sharma\n",
      "\n",
      "Print String in order of Keywords: \n",
      "Sharma Kumar Rohit\n"
     ]
    }
   ],
   "source": [
    "# Python Program for Formatting of Strings\n",
    "\n",
    "# Default order\n",
    "String1 = \"{} {} {}\".format('Rohit', 'Kumar', 'Sharma')\n",
    "print(\"Print String in default order: \")\n",
    "print(String1)\n",
    "\n",
    "# Positional Formatting\n",
    "String1 = \"{1} {0} {2}\".format('Rohit', 'Kumar', 'Sharma')\n",
    "print(\"\\nPrint String in Positional order: \")\n",
    "print(String1)\n",
    "\n",
    "# Keyword Formatting\n",
    "String1 = \"{l} {f} {g}\".format(g='Rohit', f='Kumar', l='Sharma')\n",
    "print(\"\\nPrint String in order of Keywords: \")\n",
    "print(String1)"
   ]
  },
  {
   "cell_type": "code",
   "execution_count": 15,
   "metadata": {},
   "outputs": [
    {
     "name": "stdout",
     "output_type": "stream",
     "text": [
      "\n",
      "Binary representation of 16 is \n",
      "10000\n",
      "\n",
      "Exponent representation of 165.6458 is \n",
      "1.656458e+02\n",
      "\n",
      "one-sixth is : \n",
      "0.17\n"
     ]
    }
   ],
   "source": [
    "# Formatting of Integers\n",
    "String1 = \"{0:b}\".format(16)\n",
    "print(\"\\nBinary representation of 16 is \")\n",
    "print(String1)\n",
    "\n",
    "# Formatting of Floats\n",
    "String1 = \"{0:e}\".format(165.6458)\n",
    "print(\"\\nExponent representation of 165.6458 is \")\n",
    "print(String1)\n",
    "\n",
    "# Rounding off Integers\n",
    "String1 = \"{0:.2f}\".format(1/6)\n",
    "print(\"\\none-sixth is : \")\n",
    "print(String1)"
   ]
  },
  {
   "cell_type": "markdown",
   "metadata": {},
   "source": [
    "PYTHON STRING METHODS:"
   ]
  },
  {
   "cell_type": "markdown",
   "metadata": {},
   "source": [
    "1. find(\"string\", beg, end) :-\n",
    "2. rfind(\"string\", beg, end) :-"
   ]
  },
  {
   "cell_type": "code",
   "execution_count": 22,
   "metadata": {},
   "outputs": [
    {
     "name": "stdout",
     "output_type": "stream",
     "text": [
      "The first occurrence of str2 is at : 5\n",
      "The last occurrence of str2 is at : 21\n"
     ]
    }
   ],
   "source": [
    "# Python code to demonstrate working of find() and rfind()\n",
    "str = \"I am Rohit kumar And Rohit\"\n",
    "str2 = \"Rohit\"\n",
    "\n",
    "# using find() to find first occurrence of str2 returns 5\n",
    "print (\"The first occurrence of str2 is at : \", end=\"\")\n",
    "print (str.find( str2, 4) )\n",
    "\n",
    "# using rfind() to find last occurrence of str2 returns 21\n",
    "print (\"The last occurrence of str2 is at : \", end=\"\")\n",
    "print ( str.rfind( str2, 4) )"
   ]
  },
  {
   "cell_type": "markdown",
   "metadata": {},
   "source": [
    "3. startswith(\"string\", beg, end) :- \n",
    "4. endswith(\"string\", beg, end) :-"
   ]
  },
  {
   "cell_type": "code",
   "execution_count": 37,
   "metadata": {},
   "outputs": [
    {
     "name": "stdout",
     "output_type": "stream",
     "text": [
      "str1 begins with : Rohit\n",
      "str1 does not end with : Rohit\n"
     ]
    }
   ],
   "source": [
    "# Python code to demonstrate working of startswith() and endswith() \n",
    "str = \"Rohit\"\n",
    "str1 = \"Rohit kumar Sharma\" \n",
    "\n",
    "# using startswith() to find if str  starts with str1 \n",
    "if str1.startswith(str): \n",
    "    print (\"str1 begins with : \" + str) \n",
    "else : \n",
    "    print (\"str1 does not begin with : \"+ str) \n",
    "\n",
    "# using endswith() to find if str ends with str1 \n",
    "if str1.endswith(str): \n",
    "    print (\"str1 ends with : \" + str) \n",
    "else : \n",
    "    print (\"str1 does not end with : \" + str)"
   ]
  },
  {
   "cell_type": "code",
   "execution_count": 39,
   "metadata": {},
   "outputs": [
    {
     "name": "stdout",
     "output_type": "stream",
     "text": [
      "str1 does not begin with : Sharma\n",
      "str1 ends with : Sharma\n"
     ]
    }
   ],
   "source": [
    "# Python code to demonstrate working of startswith() and endswith() \n",
    "str = \"Sharma\"\n",
    "str1 = \"Rohit kumar Sharma\" \n",
    "\n",
    "# using startswith() to find if str  starts with str1 \n",
    "if str1.startswith(str): \n",
    "    print (\"str1 begins with : \" + str) \n",
    "else : \n",
    "    print (\"str1 does not begin with : \"+ str) \n",
    "\n",
    "# using endswith() to find if str ends with str1 \n",
    "if str1.endswith(str): \n",
    "    print (\"str1 ends with : \" + str) \n",
    "else : \n",
    "    print (\"str1 does not end with : \" + str)"
   ]
  },
  {
   "cell_type": "markdown",
   "metadata": {},
   "source": [
    "5. islower(\"string\") :- \n",
    "6. isupper(\"string\") :-"
   ]
  },
  {
   "cell_type": "code",
   "execution_count": 44,
   "metadata": {},
   "outputs": [
    {
     "name": "stdout",
     "output_type": "stream",
     "text": [
      "All characters in str are not upper cased\n",
      "All characters in str1 are lower cased\n"
     ]
    }
   ],
   "source": [
    "# Python code to demonstrate working of isupper() and islower()\n",
    "str = \"Rohit\"\n",
    "str1 = \"roht\"\n",
    "\n",
    "# checking if all characters in str are upper cased\n",
    "if str.isupper() :\n",
    "    print (\"All characters in str are upper cased\")\n",
    "else : \n",
    "    print (\"All characters in str are not upper cased\")\n",
    "\n",
    "# checking if all characters in str1 are lower cased\n",
    "if str1.islower() :\n",
    "    print (\"All characters in str1 are lower cased\")\n",
    "else : \n",
    "    print (\"All characters in str1 are not lower cased\")"
   ]
  },
  {
   "cell_type": "markdown",
   "metadata": {},
   "source": [
    "7. lower() :-\n",
    "8. upper() :- \n",
    "9. swapcase() :-\n",
    "10. title() :-"
   ]
  },
  {
   "cell_type": "code",
   "execution_count": 49,
   "metadata": {},
   "outputs": [
    {
     "name": "stdout",
     "output_type": "stream",
     "text": [
      " The lower case converted string is :\n",
      " i am rohit kumar sharma\n",
      " The upper case converted string is :\n",
      " I AM ROHIT KUMAR SHARMA\n",
      " The swap case converted string is :\n",
      " i AM rOHIT kUMAR sHARMA\n",
      " The title case converted string is :\n",
      " I Am Rohit Kumar Sharma\n"
     ]
    }
   ],
   "source": [
    "# Python code to demonstrate working of  upper(), lower(), swapcase() and title()\n",
    "str = \"I am Rohit Kumar Sharma\"\n",
    "\n",
    "# Converting string into its lower case\n",
    "str1 = str.lower()\n",
    "print (\" The lower case converted string is :\\n \" + str1)\n",
    "\n",
    "# Converting string into its upper case\n",
    "str2 = str.upper()\n",
    "print (\" The upper case converted string is :\\n \" + str2)\n",
    "\n",
    "# Converting string into its swapped case\n",
    "str3 = str.swapcase()\n",
    "print (\" The swap case converted string is :\\n \" + str3)\n",
    "\n",
    "# Converting string into its title case\n",
    "str4 = str.title()\n",
    "print (\" The title case converted string is :\\n \" + str4)"
   ]
  },
  {
   "cell_type": "markdown",
   "metadata": {},
   "source": [
    "11. len() :- \n",
    "12. count(\"string\", beg, end) :- "
   ]
  },
  {
   "cell_type": "code",
   "execution_count": 6,
   "metadata": {},
   "outputs": [
    {
     "name": "stdout",
     "output_type": "stream",
     "text": [
      " The length of string is :  34\n",
      " Number of appearance of Rohit is : 2\n"
     ]
    }
   ],
   "source": [
    "# Python code to demonstrate working of  len() and count()\n",
    "str = \"I am Rohit kumar and call me Rohit\"\n",
    " \n",
    "# Printing length of string using len()\n",
    "print (\" The length of string is : \", len(str));\n",
    "\n",
    "# Printing occurrence of \"geeks\" in string\n",
    "# Prints 2 as it only checks till 15th element\n",
    "print (\" Number of appearance of \"\"Rohit\"\" is : \",end=\"\")\n",
    "print (str.count(\"Rohit\",0,35))"
   ]
  },
  {
   "cell_type": "markdown",
   "metadata": {},
   "source": [
    "13. center() :- \n",
    "14. ljust() :-  \n",
    "15. rjust() :-"
   ]
  },
  {
   "cell_type": "code",
   "execution_count": 7,
   "metadata": {},
   "outputs": [
    {
     "name": "stdout",
     "output_type": "stream",
     "text": [
      "The string after centering with '-' is : ----Rohit Kumar-----\n",
      "The string after ljust is : Rohit Kumar---------\n",
      "The string after rjust is : ---------Rohit Kumar\n"
     ]
    }
   ],
   "source": [
    "# Python code to demonstrate working of  center(), ljust() and rjust()\n",
    "str = \"Rohit Kumar\"\n",
    " \n",
    "# Printing the string after centering with '-'\n",
    "print (\"The string after centering with '-' is : \",end=\"\")\n",
    "print ( str.center(20,'-'))\n",
    "\n",
    "# Printing the string after ljust()\n",
    "print (\"The string after ljust is : \",end=\"\")\n",
    "print ( str.ljust(20,'-'))\n",
    "\n",
    "# Printing the string after rjust()\n",
    "print (\"The string after rjust is : \",end=\"\")\n",
    "print ( str.rjust(20,'-'))"
   ]
  },
  {
   "cell_type": "markdown",
   "metadata": {},
   "source": [
    "16. isalpha() :- \n",
    "17. isalnum() :- \n",
    "18. isspace() :-"
   ]
  },
  {
   "cell_type": "code",
   "execution_count": 11,
   "metadata": {},
   "outputs": [
    {
     "name": "stdout",
     "output_type": "stream",
     "text": [
      "All characters are alphabets in str\n",
      "All characters are numbers in str1\n",
      "All characters are not spaces in str1\n"
     ]
    }
   ],
   "source": [
    "# Python code to demonstrate working of isalpha(), isalnum(), isspace()\n",
    "str = \"Rohitkumar\"\n",
    "str1 = \"123\"\n",
    " \n",
    "# Checking if str has all alphabets \n",
    "if (str.isalpha()):\n",
    "       print (\"All characters are alphabets in str\")\n",
    "else : print (\"All characters are not alphabets in str\")\n",
    "\n",
    "# Checking if str1 has all numbers\n",
    "if (str1.isalnum()):\n",
    "       print (\"All characters are numbers in str1\")\n",
    "else : print (\"All characters are not numbers in str1\")\n",
    "\n",
    "# Checking if str1 has all spaces\n",
    "if (str1.isspace()):\n",
    "       print (\"All characters are spaces in str1\")\n",
    "else : print (\"All characters are not spaces in str1\")"
   ]
  },
  {
   "cell_type": "markdown",
   "metadata": {},
   "source": [
    "19. join() :-"
   ]
  },
  {
   "cell_type": "code",
   "execution_count": 12,
   "metadata": {},
   "outputs": [
    {
     "name": "stdout",
     "output_type": "stream",
     "text": [
      "The string after joining is : Rohit_Kumar_Sharma\n"
     ]
    }
   ],
   "source": [
    "# Python code to demonstrate working of join()\n",
    "str = \"_\"\n",
    "str1 = ( \"Rohit\", \"Kumar\", \"Sharma\" )\n",
    "\n",
    "# using join() to join sequence str1 with str\n",
    "print (\"The string after joining is : \", end=\"\")\n",
    "print ( str.join(str1))"
   ]
  },
  {
   "cell_type": "markdown",
   "metadata": {},
   "source": [
    "20. strip():- \n",
    "21. lstrip():- \n",
    "22. rstrip():-"
   ]
  },
  {
   "cell_type": "code",
   "execution_count": 14,
   "metadata": {},
   "outputs": [
    {
     "name": "stdout",
     "output_type": "stream",
     "text": [
      " String after stripping all '-' is : Rohit\n",
      " String after stripping all leading '-' is : Rohit---\n",
      " String after stripping all trailing '-' is : ---Rohit\n"
     ]
    }
   ],
   "source": [
    "# Python code to demonstrate working of strip(), lstrip() and rstrip()\n",
    "str = \"---Rohit---\"\n",
    "\n",
    "# using strip() to delete all '-'\n",
    "print ( \" String after stripping all '-' is : \", end=\"\")\n",
    "print ( str.strip('-') )\n",
    "\n",
    "# using lstrip() to delete all trailing '-'\n",
    "print ( \" String after stripping all leading '-' is : \", end=\"\")\n",
    "print ( str.lstrip('-') )\n",
    "\n",
    "# using rstrip() to delete all leading '-'\n",
    "print ( \" String after stripping all trailing '-' is : \", end=\"\")\n",
    "print ( str.rstrip('-') )"
   ]
  },
  {
   "cell_type": "markdown",
   "metadata": {},
   "source": [
    "23. min(\"string\"):-\n",
    "24. max(\"string\") :-"
   ]
  },
  {
   "cell_type": "code",
   "execution_count": 17,
   "metadata": {},
   "outputs": [
    {
     "name": "stdout",
     "output_type": "stream",
     "text": [
      "The minimum value character is : a\n",
      "The maximum value character is : t\n"
     ]
    }
   ],
   "source": [
    "# Python code to demonstrate working of min() and max()\n",
    "str = \"iamthehero\"\n",
    "\n",
    "# using min() to print the smallest character prints 'e'\n",
    "print (\"The minimum value character is : \" + min(str))\n",
    "\n",
    "# using max() to print the largest character prints 's'\n",
    "print (\"The maximum value character is : \" + max(str))"
   ]
  },
  {
   "cell_type": "markdown",
   "metadata": {},
   "source": [
    "25. maketrans():-  \n",
    "26. translate():-"
   ]
  },
  {
   "cell_type": "code",
   "execution_count": 18,
   "metadata": {},
   "outputs": [
    {
     "name": "stdout",
     "output_type": "stream",
     "text": [
      "Original String: apple, banana, cherry\n",
      "Translated String: 1pple, 21n1n1, 3herry\n"
     ]
    }
   ],
   "source": [
    "# Using maketrans() to create a translation table\n",
    "translation_table = str.maketrans(\"abc\", \"123\")\n",
    "\n",
    "# Original string\n",
    "original_string = \"apple, banana, cherry\"\n",
    "\n",
    "# Using translate() to apply the translation table\n",
    "translated_string = original_string.translate(translation_table)\n",
    "\n",
    "# Print the results\n",
    "print(\"Original String:\", original_string)        \n",
    "print(\"Translated String:\", translated_string)     "
   ]
  },
  {
   "cell_type": "markdown",
   "metadata": {},
   "source": [
    "\n",
    "27. replace():-"
   ]
  },
  {
   "cell_type": "code",
   "execution_count": 23,
   "metadata": {},
   "outputs": [
    {
     "name": "stdout",
     "output_type": "stream",
     "text": [
      "The string before replacing strings is: Rohan is Rohan\n",
      "The string after replacing strings is : Rohit is Rohit\n"
     ]
    }
   ],
   "source": [
    "# Python code to demonstrate working of replace()\n",
    "\n",
    "str = \"Rohan is Rohan\"\n",
    "print(\"The string before replacing strings is: \" + str)\n",
    "\n",
    "str1 = \"Rohan\"\n",
    "str2 = \"Rohit\"\n",
    "\n",
    "# using replace() to replace str2 with str1 in str only changes 2 occurrences \n",
    "print (\"The string after replacing strings is : \", end=\"\")\n",
    "print (str.replace( str1, str2, 2))"
   ]
  },
  {
   "cell_type": "markdown",
   "metadata": {},
   "source": [
    "28. expandtabs():-"
   ]
  },
  {
   "cell_type": "code",
   "execution_count": 30,
   "metadata": {},
   "outputs": [
    {
     "name": "stdout",
     "output_type": "stream",
     "text": [
      "Rohit   Kumar   Sharma\n",
      "Rohit     Kumar     Sharma\n",
      "Rohit                                             Kumar                                             Sharma\n"
     ]
    }
   ],
   "source": [
    "# Python code to illustrate expandtabs()\n",
    "string = 'Rohit\\tKumar\\tSharma'\n",
    "\n",
    "# No parameters, by default size is 8\n",
    "print (string.expandtabs())\n",
    "\n",
    "# tab size taken as 10\n",
    "print(string.expandtabs(10))\n",
    "\n",
    "# tab size taken as 50\n",
    "print(string.expandtabs(50))"
   ]
  }
 ],
 "metadata": {
  "kernelspec": {
   "display_name": "Python 3",
   "language": "python",
   "name": "python3"
  },
  "language_info": {
   "codemirror_mode": {
    "name": "ipython",
    "version": 3
   },
   "file_extension": ".py",
   "mimetype": "text/x-python",
   "name": "python",
   "nbconvert_exporter": "python",
   "pygments_lexer": "ipython3",
   "version": "3.12.6"
  }
 },
 "nbformat": 4,
 "nbformat_minor": 2
}
