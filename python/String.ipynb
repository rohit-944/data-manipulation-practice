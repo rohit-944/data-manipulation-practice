{
 "cells": [
  {
   "cell_type": "markdown",
   "metadata": {},
   "source": [
    "Creating a String in Python"
   ]
  },
  {
   "cell_type": "code",
   "execution_count": 3,
   "metadata": {},
   "outputs": [
    {
     "name": "stdout",
     "output_type": "stream",
     "text": [
      "String with the use of Single Quotes: \n",
      "Hello, Welcome to the new World\n",
      "\n",
      "String with the use of Double Quotes: \n",
      "i am Rohit Kumar \n",
      "\n",
      "String with the use of Triple Quotes: \n",
      "I'm Rohit and I Like Coding\"\n",
      "\n",
      "Creating a multiline String: \n",
      "My\n",
      "Name\n",
      "Is \n",
      "Rohit\n"
     ]
    }
   ],
   "source": [
    "# Creating a String with single Quotes\n",
    "String1 = 'Hello, Welcome to the new World'\n",
    "print(\"String with the use of Single Quotes: \")\n",
    "print(String1)\n",
    "\n",
    "# Creating a String with double Quotes\n",
    "String1 = \"i am Rohit Kumar \"\n",
    "print(\"\\nString with the use of Double Quotes: \")\n",
    "print(String1)\n",
    "\n",
    "# Creating a String with triple Quotes\n",
    "String1 = '''I'm Rohit and I Like Coding\"'''\n",
    "print(\"\\nString with the use of Triple Quotes: \")\n",
    "print(String1)\n",
    "\n",
    "# Creating String with triple Quotes allows multiple lines\n",
    "String1 = '''My\n",
    "Name\n",
    "Is \n",
    "Rohit'''\n",
    "print(\"\\nCreating a multiline String: \")\n",
    "print(String1)"
   ]
  },
  {
   "cell_type": "markdown",
   "metadata": {},
   "source": [
    "Accessing characters in Python String"
   ]
  },
  {
   "cell_type": "code",
   "execution_count": 4,
   "metadata": {},
   "outputs": [
    {
     "name": "stdout",
     "output_type": "stream",
     "text": [
      "Initial String: \n",
      "Rohit Kumar\n",
      "\n",
      "First character of String is: \n",
      "R\n",
      "\n",
      "Last character of String is: \n",
      "r\n"
     ]
    }
   ],
   "source": [
    "# Python Program to Access haracters of String\n",
    "\n",
    "String1 = \"Rohit Kumar\"\n",
    "print(\"Initial String: \")\n",
    "print(String1)\n",
    "\n",
    "# Printing First character\n",
    "print(\"\\nFirst character of String is: \")\n",
    "print(String1[0])\n",
    "\n",
    "# Printing Last character\n",
    "print(\"\\nLast character of String is: \")\n",
    "print(String1[-1])"
   ]
  },
  {
   "cell_type": "markdown",
   "metadata": {},
   "source": [
    "Reversing a Python String"
   ]
  },
  {
   "cell_type": "code",
   "execution_count": 10,
   "metadata": {},
   "outputs": [
    {
     "name": "stdout",
     "output_type": "stream",
     "text": [
      "Reverse a string by writing [::-1]: \n",
      "ramuK tihoR\n",
      "\n",
      "Reverse the strinh using reversed and join function: \n",
      "ramuK tihoR\n"
     ]
    }
   ],
   "source": [
    "#Program to reverse a string\n",
    "print(\"Reverse a string by writing [::-1]: \")\n",
    "name = \"Rohit Kumar\"\n",
    "print(name[::-1])\n",
    "\n",
    "# Reverse the strinh using reversed and join function\n",
    "print(\"\\nReverse the strinh using reversed and join function: \")\n",
    "myname = \"\".join(reversed(name))\n",
    "\n",
    "print(myname)"
   ]
  },
  {
   "cell_type": "markdown",
   "metadata": {},
   "source": [
    "String Slicing"
   ]
  },
  {
   "cell_type": "code",
   "execution_count": 20,
   "metadata": {},
   "outputs": [
    {
     "name": "stdout",
     "output_type": "stream",
     "text": [
      "Initial String: \n",
      "My name is Rohit kumar\n",
      "\n",
      "Slicing characters from 3-16: \n",
      "name is Rohit\n",
      "\n",
      "Slicing characters between 0th and 5th last character: \n",
      "My name is Rohit \n"
     ]
    }
   ],
   "source": [
    "# Python Program to demonstrate String slicing\n",
    "\n",
    "# Creating a String\n",
    "String1 = \"My name is Rohit kumar\"\n",
    "print(\"Initial String: \")\n",
    "print(String1)\n",
    "\n",
    "# Printing 3rd to 16th character\n",
    "print(\"\\nSlicing characters from 3-16: \")\n",
    "print(String1[3:16])\n",
    "\n",
    "# Printing characters between 0th and 5th last character\n",
    "print(\"\\nSlicing characters between \" + \"0th and 5th last character: \")\n",
    "print(String1[0:-5])"
   ]
  },
  {
   "cell_type": "markdown",
   "metadata": {},
   "source": [
    "Deleting/Updating from a String"
   ]
  },
  {
   "cell_type": "code",
   "execution_count": 33,
   "metadata": {},
   "outputs": [
    {
     "name": "stdout",
     "output_type": "stream",
     "text": [
      "Initial String: \n",
      "Hello, I'm a Rohit Kumar\n",
      "\n",
      "Updating character at 0 to 5th Index: \n",
      "Good, I'm a Rohit Kumar\n",
      "Help, I'm a Rohit Kumar\n"
     ]
    }
   ],
   "source": [
    "# Python Program to Update character of a String\n",
    "\n",
    "String1 = \"Hello, I'm a Rohit Kumar\"\n",
    "print(\"Initial String: \")\n",
    "print(String1)\n",
    "\n",
    "# Updating a character of the String\n",
    "## As python strings are immutable, they don't support item updation directly\n",
    "### there are following two ways\n",
    "#1\n",
    "list1 = list(String1)\n",
    "list1[0:5] = 'Good'\n",
    "String2 = ''.join(list1)\n",
    "print(\"\\nUpdating character at 0 to 5th Index: \")\n",
    "print(String2)\n",
    "\n",
    "#2\n",
    "String3 = String1[0:2] + 'lp' + String1[5:]\n",
    "print(String3)"
   ]
  },
  {
   "cell_type": "code",
   "execution_count": 12,
   "metadata": {},
   "outputs": [
    {
     "name": "stdout",
     "output_type": "stream",
     "text": [
      "Initial String: \n",
      "Hello, I'm Rohit\n",
      "\n",
      "Updated String: \n",
      "Hello Rohit, Welcome to the New world\n",
      "\n",
      "\n",
      "\n",
      "Initial String: \n",
      "Hello, I'm Rohit\n",
      "\n",
      "Deleting character at 2nd Index: \n",
      "Helo, I'm Rohit\n"
     ]
    }
   ],
   "source": [
    "# Python Program to Update entire String\n",
    "\n",
    "String1 = \"Hello, I'm Rohit\"\n",
    "print(\"Initial String: \")\n",
    "print(String1)\n",
    "\n",
    "# Updating a String\n",
    "String1 = \"Hello Rohit, Welcome to the New world\"\n",
    "print(\"\\nUpdated String: \")\n",
    "print(String1)\n",
    "print(\"\\n\\n\")\n",
    "\n",
    "\n",
    "\n",
    "# Python Program to Delete characters from a String\n",
    "\n",
    "String1 = \"Hello, I'm Rohit\"\n",
    "print(\"Initial String: \")\n",
    "print(String1)\n",
    "\n",
    "# Deleting a character of the String\n",
    "String2 = String1[0:2] + String1[3:]\n",
    "print(\"\\nDeleting character at 2nd Index: \")\n",
    "print(String2)\n"
   ]
  },
  {
   "cell_type": "markdown",
   "metadata": {},
   "source": [
    "Formatting of Strings"
   ]
  },
  {
   "cell_type": "code",
   "execution_count": 14,
   "metadata": {},
   "outputs": [
    {
     "name": "stdout",
     "output_type": "stream",
     "text": [
      "Print String in default order: \n",
      "Rohit Kumar Sharma\n",
      "\n",
      "Print String in Positional order: \n",
      "Kumar Rohit Sharma\n",
      "\n",
      "Print String in order of Keywords: \n",
      "Sharma Kumar Rohit\n"
     ]
    }
   ],
   "source": [
    "# Python Program for Formatting of Strings\n",
    "\n",
    "# Default order\n",
    "String1 = \"{} {} {}\".format('Rohit', 'Kumar', 'Sharma')\n",
    "print(\"Print String in default order: \")\n",
    "print(String1)\n",
    "\n",
    "# Positional Formatting\n",
    "String1 = \"{1} {0} {2}\".format('Rohit', 'Kumar', 'Sharma')\n",
    "print(\"\\nPrint String in Positional order: \")\n",
    "print(String1)\n",
    "\n",
    "# Keyword Formatting\n",
    "String1 = \"{l} {f} {g}\".format(g='Rohit', f='Kumar', l='Sharma')\n",
    "print(\"\\nPrint String in order of Keywords: \")\n",
    "print(String1)"
   ]
  },
  {
   "cell_type": "code",
   "execution_count": 15,
   "metadata": {},
   "outputs": [
    {
     "name": "stdout",
     "output_type": "stream",
     "text": [
      "\n",
      "Binary representation of 16 is \n",
      "10000\n",
      "\n",
      "Exponent representation of 165.6458 is \n",
      "1.656458e+02\n",
      "\n",
      "one-sixth is : \n",
      "0.17\n"
     ]
    }
   ],
   "source": [
    "# Formatting of Integers\n",
    "String1 = \"{0:b}\".format(16)\n",
    "print(\"\\nBinary representation of 16 is \")\n",
    "print(String1)\n",
    "\n",
    "# Formatting of Floats\n",
    "String1 = \"{0:e}\".format(165.6458)\n",
    "print(\"\\nExponent representation of 165.6458 is \")\n",
    "print(String1)\n",
    "\n",
    "# Rounding off Integers\n",
    "String1 = \"{0:.2f}\".format(1/6)\n",
    "print(\"\\none-sixth is : \")\n",
    "print(String1)"
   ]
  },
  {
   "cell_type": "markdown",
   "metadata": {},
   "source": [
    "PYTHON STRING METHODS:"
   ]
  },
  {
   "cell_type": "markdown",
   "metadata": {},
   "source": [
    "1. find(\"string\", beg, end) :-\n",
    "2. rfind(\"string\", beg, end) :-"
   ]
  },
  {
   "cell_type": "code",
   "execution_count": 22,
   "metadata": {},
   "outputs": [
    {
     "name": "stdout",
     "output_type": "stream",
     "text": [
      "The first occurrence of str2 is at : 5\n",
      "The last occurrence of str2 is at : 21\n"
     ]
    }
   ],
   "source": [
    "# Python code to demonstrate working of find() and rfind()\n",
    "str = \"I am Rohit kumar And Rohit\"\n",
    "str2 = \"Rohit\"\n",
    "\n",
    "# using find() to find first occurrence of str2 returns 5\n",
    "print (\"The first occurrence of str2 is at : \", end=\"\")\n",
    "print (str.find( str2, 4) )\n",
    "\n",
    "# using rfind() to find last occurrence of str2 returns 21\n",
    "print (\"The last occurrence of str2 is at : \", end=\"\")\n",
    "print ( str.rfind( str2, 4) )"
   ]
  },
  {
   "cell_type": "markdown",
   "metadata": {},
   "source": [
    "3. startswith(\"string\", beg, end) :- \n",
    "4. endswith(\"string\", beg, end) :-"
   ]
  },
  {
   "cell_type": "code",
   "execution_count": 37,
   "metadata": {},
   "outputs": [
    {
     "name": "stdout",
     "output_type": "stream",
     "text": [
      "str1 begins with : Rohit\n",
      "str1 does not end with : Rohit\n"
     ]
    }
   ],
   "source": [
    "# Python code to demonstrate working of startswith() and endswith() \n",
    "str = \"Rohit\"\n",
    "str1 = \"Rohit kumar Sharma\" \n",
    "\n",
    "# using startswith() to find if str  starts with str1 \n",
    "if str1.startswith(str): \n",
    "    print (\"str1 begins with : \" + str) \n",
    "else : \n",
    "    print (\"str1 does not begin with : \"+ str) \n",
    "\n",
    "# using endswith() to find if str ends with str1 \n",
    "if str1.endswith(str): \n",
    "    print (\"str1 ends with : \" + str) \n",
    "else : \n",
    "    print (\"str1 does not end with : \" + str)"
   ]
  },
  {
   "cell_type": "code",
   "execution_count": 39,
   "metadata": {},
   "outputs": [
    {
     "name": "stdout",
     "output_type": "stream",
     "text": [
      "str1 does not begin with : Sharma\n",
      "str1 ends with : Sharma\n"
     ]
    }
   ],
   "source": [
    "# Python code to demonstrate working of startswith() and endswith() \n",
    "str = \"Sharma\"\n",
    "str1 = \"Rohit kumar Sharma\" \n",
    "\n",
    "# using startswith() to find if str  starts with str1 \n",
    "if str1.startswith(str): \n",
    "    print (\"str1 begins with : \" + str) \n",
    "else : \n",
    "    print (\"str1 does not begin with : \"+ str) \n",
    "\n",
    "# using endswith() to find if str ends with str1 \n",
    "if str1.endswith(str): \n",
    "    print (\"str1 ends with : \" + str) \n",
    "else : \n",
    "    print (\"str1 does not end with : \" + str)"
   ]
  },
  {
   "cell_type": "markdown",
   "metadata": {},
   "source": [
    "5. islower(\"string\") :- \n",
    "6. isupper(\"string\") :-"
   ]
  },
  {
   "cell_type": "code",
   "execution_count": 44,
   "metadata": {},
   "outputs": [
    {
     "name": "stdout",
     "output_type": "stream",
     "text": [
      "All characters in str are not upper cased\n",
      "All characters in str1 are lower cased\n"
     ]
    }
   ],
   "source": [
    "# Python code to demonstrate working of isupper() and islower()\n",
    "str = \"Rohit\"\n",
    "str1 = \"roht\"\n",
    "\n",
    "# checking if all characters in str are upper cased\n",
    "if str.isupper() :\n",
    "    print (\"All characters in str are upper cased\")\n",
    "else : \n",
    "    print (\"All characters in str are not upper cased\")\n",
    "\n",
    "# checking if all characters in str1 are lower cased\n",
    "if str1.islower() :\n",
    "    print (\"All characters in str1 are lower cased\")\n",
    "else : \n",
    "    print (\"All characters in str1 are not lower cased\")"
   ]
  },
  {
   "cell_type": "markdown",
   "metadata": {},
   "source": [
    "7. lower() :-\n",
    "8. upper() :- \n",
    "9. swapcase() :-\n",
    "10. title() :-"
   ]
  },
  {
   "cell_type": "code",
   "execution_count": 48,
   "metadata": {},
   "outputs": [
    {
     "name": "stdout",
     "output_type": "stream",
     "text": [
      " The lower case converted string is : i am rohit kumar sharma\n",
      " The upper case converted string is : I AM ROHIT KUMAR SHARMA\n",
      " The swap case converted string is : i AM rOHIT kUMAR sHARMA\n",
      " The title case converted string is : I Am Rohit Kumar Sharma\n"
     ]
    }
   ],
   "source": [
    "# Python code to demonstrate working of  upper(), lower(), swapcase() and title()\n",
    "str = \"I am Rohit Kumar Sharma\"\n",
    "\n",
    "# Converting string into its lower case\n",
    "str1 = str.lower()\n",
    "print (\" The lower case converted string is : \" + str1)\n",
    "\n",
    "# Converting string into its upper case\n",
    "str2 = str.upper()\n",
    "print (\" The upper case converted string is : \" + str2)\n",
    "\n",
    "# Converting string into its swapped case\n",
    "str3 = str.swapcase()\n",
    "print (\" The swap case converted string is : \" + str3)\n",
    "\n",
    "# Converting string into its title case\n",
    "str4 = str.title()\n",
    "print (\" The title case converted string is : \" + str4)"
   ]
  }
 ],
 "metadata": {
  "kernelspec": {
   "display_name": "Python 3",
   "language": "python",
   "name": "python3"
  },
  "language_info": {
   "codemirror_mode": {
    "name": "ipython",
    "version": 3
   },
   "file_extension": ".py",
   "mimetype": "text/x-python",
   "name": "python",
   "nbconvert_exporter": "python",
   "pygments_lexer": "ipython3",
   "version": "3.12.6"
  }
 },
 "nbformat": 4,
 "nbformat_minor": 2
}
