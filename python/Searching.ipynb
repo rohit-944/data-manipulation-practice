{
 "cells": [
  {
   "cell_type": "markdown",
   "metadata": {},
   "source": [
    "1. Linear Search"
   ]
  },
  {
   "cell_type": "code",
   "execution_count": 14,
   "metadata": {},
   "outputs": [
    {
     "name": "stdout",
     "output_type": "stream",
     "text": [
      "Element is not present in array\n"
     ]
    }
   ],
   "source": [
    "#Python3 code to linearly search x in arr[]. If x is present then return its location,otherwise return -1\n",
    "\n",
    "def search(arr, n, x):\n",
    "    for i in range(0, n):\n",
    "        if (arr[i] == x):\n",
    "            return i\n",
    "        return -1\n",
    "\n",
    "\n",
    "# Driver Code\n",
    "arr = [2, 3, 4, 10, 40]\n",
    "x = 50\n",
    "n = len(arr)\n",
    "\n",
    "# Function call\n",
    "result = search(arr, n, x)\n",
    "if (result == -1):\n",
    "    print(\"Element is not present in array\")\n",
    "else :\n",
    "    print(\"Element is present at index: \", result)"
   ]
  },
  {
   "cell_type": "code",
   "execution_count": 24,
   "metadata": {},
   "outputs": [
    {
     "name": "stdout",
     "output_type": "stream",
     "text": [
      "Element found in Array at  4  Position with  2  Attempt\n"
     ]
    }
   ],
   "source": [
    "# Python3 program for linear search\n",
    "\n",
    "def search(arr, search_Element):\n",
    "    left = 0\n",
    "    length = len(arr)\n",
    "    position = -1\n",
    "    right = length - 1\n",
    "\n",
    "    # Run loop from 0 to right\n",
    "    for left in range(0, right, 1):\n",
    "        #If search_element is found with left variable\n",
    "        if (arr[left] == search_Element):\n",
    "            position = left\n",
    "            print(\"Element found in Array at \", position +\n",
    "                1, \" Position with \", left + 1, \" Attempt\")\n",
    "            break\n",
    "\n",
    "        # If search_element is found with# right variable\n",
    "        if (arr[right] == search_Element):\n",
    "            position = right\n",
    "            print(\"Element found in Array at \", position + 1,\n",
    "                \" Position with \", length - right, \" Attempt\")\n",
    "            break\n",
    "        left += 1\n",
    "        right -= 1\n",
    "\n",
    "      # If element not found\n",
    "    if (position == -1):\n",
    "        print(\"Not found in Array with \", left, \" Attempt\")\n",
    "\n",
    "# Driver code\n",
    "arr = [1, 2, 3, 4, 5]\n",
    "search_element = 4\n",
    "\n",
    "# Function call\n",
    "search(arr, search_element)"
   ]
  },
  {
   "cell_type": "markdown",
   "metadata": {},
   "source": [
    "2. Binary Search"
   ]
  },
  {
   "cell_type": "code",
   "execution_count": null,
   "metadata": {},
   "outputs": [],
   "source": []
  }
 ],
 "metadata": {
  "kernelspec": {
   "display_name": "Python 3",
   "language": "python",
   "name": "python3"
  },
  "language_info": {
   "codemirror_mode": {
    "name": "ipython",
    "version": 3
   },
   "file_extension": ".py",
   "mimetype": "text/x-python",
   "name": "python",
   "nbconvert_exporter": "python",
   "pygments_lexer": "ipython3",
   "version": "3.12.6"
  }
 },
 "nbformat": 4,
 "nbformat_minor": 2
}
