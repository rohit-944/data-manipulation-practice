{
 "cells": [
  {
   "cell_type": "markdown",
   "metadata": {},
   "source": [
    "1. Linear Search"
   ]
  },
  {
   "cell_type": "code",
   "execution_count": 14,
   "metadata": {},
   "outputs": [
    {
     "name": "stdout",
     "output_type": "stream",
     "text": [
      "Element is not present in array\n"
     ]
    }
   ],
   "source": [
    "#Python3 code to linearly search x in arr[]. If x is present then return its location,otherwise return -1\n",
    "\n",
    "def search(arr, n, x):\n",
    "    for i in range(0, n):\n",
    "        if (arr[i] == x):\n",
    "            return i\n",
    "        return -1\n",
    "\n",
    "\n",
    "# Driver Code\n",
    "arr = [2, 3, 4, 10, 40]\n",
    "x = 50\n",
    "n = len(arr)\n",
    "\n",
    "# Function call\n",
    "result = search(arr, n, x)\n",
    "if (result == -1):\n",
    "    print(\"Element is not present in array\")\n",
    "else :\n",
    "    print(\"Element is present at index: \", result)"
   ]
  },
  {
   "cell_type": "code",
   "execution_count": 24,
   "metadata": {},
   "outputs": [
    {
     "name": "stdout",
     "output_type": "stream",
     "text": [
      "Element found in Array at  4  Position with  2  Attempt\n"
     ]
    }
   ],
   "source": [
    "# Python3 program for linear search\n",
    "\n",
    "def search(arr, search_Element):\n",
    "    left = 0\n",
    "    length = len(arr)\n",
    "    position = -1\n",
    "    right = length - 1\n",
    "\n",
    "    # Run loop from 0 to right\n",
    "    for left in range(0, right, 1):\n",
    "        #If search_element is found with left variable\n",
    "        if (arr[left] == search_Element):\n",
    "            position = left\n",
    "            print(\"Element found in Array at \", position +\n",
    "                1, \" Position with \", left + 1, \" Attempt\")\n",
    "            break\n",
    "\n",
    "        # If search_element is found with# right variable\n",
    "        if (arr[right] == search_Element):\n",
    "            position = right\n",
    "            print(\"Element found in Array at \", position + 1,\n",
    "                \" Position with \", length - right, \" Attempt\")\n",
    "            break\n",
    "        left += 1\n",
    "        right -= 1\n",
    "\n",
    "      # If element not found\n",
    "    if (position == -1):\n",
    "        print(\"Not found in Array with \", left, \" Attempt\")\n",
    "\n",
    "# Driver code\n",
    "arr = [1, 2, 3, 4, 5]\n",
    "search_element = 4\n",
    "\n",
    "# Function call\n",
    "search(arr, search_element)"
   ]
  },
  {
   "cell_type": "markdown",
   "metadata": {},
   "source": [
    "2. Binary Search"
   ]
  },
  {
   "cell_type": "code",
   "execution_count": 25,
   "metadata": {},
   "outputs": [
    {
     "name": "stdout",
     "output_type": "stream",
     "text": [
      "Element is present at index  3\n"
     ]
    }
   ],
   "source": [
    "# Recursive implementation of Binary Search:\n",
    "# Returns index of x in arr if present, else -1\n",
    "\n",
    "\n",
    "def binarySearch(arr, l, r, x):\n",
    "\n",
    "# Check base case\n",
    "    if r >= l:\n",
    "\n",
    "        mid = l + (r - l) // 2\n",
    "\n",
    "    # If element is present at the middle itself\n",
    "    if arr[mid] == x:\n",
    "        return mid\n",
    "\n",
    "    # If element is smaller than mid, then it can only be present in left subarray\n",
    "    elif arr[mid] > x:\n",
    "        return binarySearch(arr, l, mid-1, x)\n",
    "\n",
    "    # Else the element can only be present in right subarray\n",
    "    elif(arr[mid]  < x):\n",
    "        return binarySearch(arr, mid + 1, r, x)\n",
    "\n",
    "    else:\n",
    "        # Element is not present in the array\n",
    "        return -1\n",
    "\n",
    "\n",
    "# Driver Code\n",
    "arr = [2, 3, 4, 10, 40]\n",
    "x = 10\n",
    "\n",
    "# Function call\n",
    "result = binarySearch(arr, 0, len(arr)-1, x)\n",
    "\n",
    "if result != -1:\n",
    "    print(\"Element is present at index % d\" % result)\n",
    "else:\n",
    "    print(\"Element is not present in array\")"
   ]
  },
  {
   "cell_type": "code",
   "execution_count": 30,
   "metadata": {},
   "outputs": [
    {
     "name": "stdout",
     "output_type": "stream",
     "text": [
      "Element is present at index  3\n"
     ]
    }
   ],
   "source": [
    "# Iterative implementation of Binary Search \n",
    "# It returns location of x in given array arr if present, else returns -1\n",
    "\n",
    "\n",
    "def binarySearch(arr, l, r, x):\n",
    "\n",
    "    while l <= r:\n",
    "\n",
    "        mid = l + (r - l) // 2\n",
    "\n",
    "        # Check if x is present at mid\n",
    "        if arr[mid] == x:\n",
    "            return mid\n",
    "\n",
    "        # If x is greater, ignore left half\n",
    "        elif arr[mid] < x:\n",
    "            l = mid + 1\n",
    "\n",
    "        # If x is smaller, ignore right half\n",
    "        else:\n",
    "            r = mid - 1\n",
    "            # If we reach here, then the element was not present\n",
    "            return -1\n",
    "\n",
    "\n",
    "# Driver Code\n",
    "arr = [2, 3, 4, 10, 40]\n",
    "x = 10\n",
    "\n",
    "# Function call\n",
    "result = binarySearch(arr, 0, len(arr)-1, x)\n",
    "\n",
    "if result != -1:\n",
    "    print(\"Element is present at index % d\" % result)\n",
    "else:\n",
    "    print(\"Element is not present in array\")"
   ]
  }
 ],
 "metadata": {
  "kernelspec": {
   "display_name": "Python 3",
   "language": "python",
   "name": "python3"
  },
  "language_info": {
   "codemirror_mode": {
    "name": "ipython",
    "version": 3
   },
   "file_extension": ".py",
   "mimetype": "text/x-python",
   "name": "python",
   "nbconvert_exporter": "python",
   "pygments_lexer": "ipython3",
   "version": "3.12.6"
  }
 },
 "nbformat": 4,
 "nbformat_minor": 2
}
