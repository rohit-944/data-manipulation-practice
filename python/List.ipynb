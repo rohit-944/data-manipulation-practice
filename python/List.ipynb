{
 "cells": [
  {
   "cell_type": "code",
   "execution_count": 72,
   "metadata": {},
   "outputs": [],
   "source": [
    "# Important List Methods:\n",
    "\n",
    "# Length   -   len(list_name)\n",
    "# Count    -   list_name.count(value)\n",
    "# Clear    -   list.clear()\n",
    "# Index    -   list_name.index(element, start, end)\n",
    "# Extend   -   list_name.extend(iterable)\n",
    "# Max      -   max(list_name)\n",
    "# Min      -   min(list_name)\n",
    "# Sort     -   list_name.sort()\n",
    "#              list_name.sort(key=None, reverse=False)\n",
    "# Insert   -   list_name.insert(index, element)\n",
    "# Append   -   list.append(element)\n",
    "# Pop      -   list_name.pop(index)\n",
    "# Remove   -   list_name.remove(obj) \n",
    "# Reverse  -   list_name.reverse()\n",
    "# Copy     -   list.copy()"
   ]
  },
  {
   "cell_type": "markdown",
   "metadata": {},
   "source": [
    "1. Access the Element from List"
   ]
  },
  {
   "cell_type": "code",
   "execution_count": 51,
   "metadata": {},
   "outputs": [
    {
     "name": "stdout",
     "output_type": "stream",
     "text": [
      "3\n",
      "6\n",
      "5\n"
     ]
    }
   ],
   "source": [
    "# Indexing is Simplest and Easy to Access the Element from the List\n",
    "\n",
    "a = [3,1,5,3,4,8,6,6,5,4]\n",
    "print(a[0])\n",
    "print(a[6])\n",
    "print(a[8])\n"
   ]
  },
  {
   "cell_type": "code",
   "execution_count": 52,
   "metadata": {},
   "outputs": [
    {
     "name": "stdout",
     "output_type": "stream",
     "text": [
      "Using List Concatination\n",
      "[50, 40, 90, 70]\n",
      " \n",
      "Using List Slicing\n",
      "[10, 50, 40]\n",
      " \n",
      "Using Loop\n",
      "20\n",
      "10\n",
      "50\n",
      "40\n",
      "90\n",
      "70\n"
     ]
    }
   ],
   "source": [
    "arr = [20,10,50,40,90,70]\n",
    "\n",
    "\n",
    "# Using List Concatination\n",
    "print(\"Using List Concatination\")\n",
    "res = [item for item in arr if item > 30 ]\n",
    "\n",
    "print(res)\n",
    "print(\" \")\n",
    "\n",
    "# Using List Slicing\n",
    "print(\"Using List Slicing\")\n",
    "print(arr[1:4])\n",
    "print(\" \")\n",
    "\n",
    "# Using Loop \n",
    "print(\"Using Loop\")\n",
    "for i in arr:\n",
    "    print(i)\n"
   ]
  },
  {
   "cell_type": "markdown",
   "metadata": {},
   "source": [
    "2. Change List Item"
   ]
  },
  {
   "cell_type": "code",
   "execution_count": 10,
   "metadata": {},
   "outputs": [
    {
     "name": "stdout",
     "output_type": "stream",
     "text": [
      "[10, 25, 30, 40, 50]\n"
     ]
    }
   ],
   "source": [
    "arr = [10,20,30,40,50]\n",
    "\n",
    "arr[1] = 25  \n",
    "print(arr)"
   ]
  },
  {
   "cell_type": "code",
   "execution_count": 13,
   "metadata": {},
   "outputs": [
    {
     "name": "stdout",
     "output_type": "stream",
     "text": [
      "Using Slicing for Multiple Items: \n",
      "[10, 25, 35, 40]\n",
      " \n",
      "Using List Comprehension: \n",
      "[20, 25, 35, 80]\n",
      " \n",
      "Using a Loop with enumerate(): \n",
      "[20, 30, 40, 80]\n",
      " \n",
      "Using map(): \n",
      "[21, 31, 41, 81]\n"
     ]
    }
   ],
   "source": [
    "arr = [10,20,30,40]\n",
    "\n",
    "\n",
    "# Using Slicing for Multiple Items\n",
    "print(\"Using Slicing for Multiple Items: \")\n",
    "# Replace items at indices 1 and 2\n",
    "arr[1:3] = [25, 35]  \n",
    "print(arr)\n",
    "print(\" \")\n",
    "\n",
    "# Using List Comprehension\n",
    "print(\"Using List Comprehension: \")\n",
    "# Doubling even numbers\n",
    "arr = [x * 2 if x % 2 == 0 else x for x in arr]\n",
    "print(arr)\n",
    "print(\" \")\n",
    "\n",
    "# Using a Loop with enumerate()\n",
    "print(\"Using a Loop with enumerate(): \")\n",
    "#Adding 5 to odd numbers\n",
    "for i, x in enumerate(arr):\n",
    "    if x % 2 != 0:\n",
    "        arr[i] += 5\n",
    "print(arr)\n",
    "print(\" \")\n",
    "\n",
    "# Using map()\n",
    "print(\"Using map(): \")\n",
    "# Example: Incrementing all numbers by 1\n",
    "arr = list(map(lambda x: x + 1, arr))\n",
    "print(arr)"
   ]
  },
  {
   "cell_type": "markdown",
   "metadata": {},
   "source": [
    "3. Replace Values in a List in Python"
   ]
  },
  {
   "cell_type": "code",
   "execution_count": 14,
   "metadata": {},
   "outputs": [
    {
     "name": "stdout",
     "output_type": "stream",
     "text": [
      "[10, 20, 30, 60, 50]\n"
     ]
    }
   ],
   "source": [
    "arr = [10,20,30,40,50]\n",
    "arr[3] = 60\n",
    "print(arr)"
   ]
  },
  {
   "cell_type": "code",
   "execution_count": 1,
   "metadata": {},
   "outputs": [
    {
     "name": "stdout",
     "output_type": "stream",
     "text": [
      "Using Lambda Function\n",
      "[10, 20, 30, 40, 50, 99]\n",
      " \n",
      "Using For Loop: \n",
      "[10, 20, 30, 40, 88, 60]\n",
      " \n",
      "Using while loop: \n",
      "[10, 20, 30, 77, 88, 60]\n"
     ]
    }
   ],
   "source": [
    "# Using Lambda Function\n",
    "print(\"Using Lambda Function\")\n",
    "a = [10,20,30,40,50,60]\n",
    "b = list(map(lambda x: 99 if x == 60 else x,a))\n",
    "print(b)\n",
    "print(\" \")\n",
    "\n",
    "\n",
    "# Using For Loop\n",
    "print(\"Using For Loop: \")\n",
    "for i in range(len(a)):\n",
    "    if a[i] == 50:\n",
    "        a[i] = 88\n",
    "print(a)\n",
    "print(\" \")\n",
    "\n",
    "# Using While loop\n",
    "print(\"Using while loop: \")\n",
    "i = 0\n",
    "while i < len(a):\n",
    "    if a[i] == 40:\n",
    "        a[i] = 77\n",
    "    i += 1\n",
    "print(a)"
   ]
  },
  {
   "cell_type": "markdown",
   "metadata": {},
   "source": [
    "4. PYTHON LIST METHODS"
   ]
  },
  {
   "cell_type": "markdown",
   "metadata": {},
   "source": [
    "i. Find the Length of a List in Python\n",
    "\n",
    "\n",
    "Syntex:\n",
    "    lex(list_name)"
   ]
  },
  {
   "cell_type": "code",
   "execution_count": 36,
   "metadata": {},
   "outputs": [
    {
     "name": "stdout",
     "output_type": "stream",
     "text": [
      "5\n",
      " \n",
      "Using loop (Naive method): \n",
      "5\n",
      " \n",
      "Using length_hint(): \n",
      "5\n"
     ]
    }
   ],
   "source": [
    "a = [1, 2, 3, 4, 5]\n",
    "length = len(a)\n",
    "print(length)\n",
    "print(\" \")\n",
    "\n",
    "# Using loop (Naive method)\n",
    "print(\"Using loop (Naive method): \")\n",
    "a = [1, 2, 3, 4, 5]\n",
    "count = 0\n",
    "for val in a:\n",
    "    count += 1\n",
    "print(count)\n",
    "print(\" \")\n",
    "\n",
    "# Using length_hint()\n",
    "print(\"Using length_hint(): \")\n",
    "from operator import length_hint\n",
    "a = [1, 2, 3, 4, 5]\n",
    "length = length_hint(a)\n",
    "print(length)\n"
   ]
  },
  {
   "cell_type": "markdown",
   "metadata": {},
   "source": [
    "ii Python List count() and  clear() method\n",
    "\n",
    "Syntex: \n",
    "    Count    -   list_name.count(value)\n",
    "    Clear    -   list.clear()\n"
   ]
  },
  {
   "cell_type": "code",
   "execution_count": 48,
   "metadata": {},
   "outputs": [
    {
     "name": "stdout",
     "output_type": "stream",
     "text": [
      "Count the Element from the list: \n",
      "3\n",
      " \n",
      "Count Different type of data from list: \n",
      "2\n",
      "3\n",
      " \n",
      "Count occurrence of sub-list in list of Lists: \n",
      "2\n"
     ]
    }
   ],
   "source": [
    "# Count the Element from the list\n",
    "print(\"Count the Element from the list: \")\n",
    "a = [1, 2, 3, 1, 2, 1, 4]\n",
    "c = a.count(1)\n",
    "print(c)\n",
    "print(\" \")\n",
    "\n",
    "# Count Different type of data from list:\n",
    "print(\"Count Different type of data from list: \")\n",
    "a = [1, 'GfG', 3.14, 'GfG', 1, True]\n",
    "c1 = a.count('GfG')\n",
    "c2 = a.count(1)\n",
    "print(c1)\n",
    "print(c2)\n",
    "print(\" \")\n",
    "\n",
    "# Count occurrence of sub-list in list of Lists\n",
    "print(\"Count occurrence of sub-list in list of Lists: \")\n",
    "a = [1, [2, 3], 1, [2, 3], 1]\n",
    "c = a.count([2, 3])\n",
    "print(c)\n",
    "\n"
   ]
  },
  {
   "cell_type": "code",
   "execution_count": 50,
   "metadata": {},
   "outputs": [
    {
     "name": "stdout",
     "output_type": "stream",
     "text": [
      "[]\n",
      "[]\n"
     ]
    }
   ],
   "source": [
    "# Clear Method\n",
    "a = [1, 2, 3]\n",
    "a.clear()\n",
    "print(a)\n",
    "\n",
    "a = [\"Geeks\", \"for\", \"Geeks\"]\n",
    "a.clear()\n",
    "print(a)"
   ]
  },
  {
   "cell_type": "markdown",
   "metadata": {},
   "source": [
    "iii. Python List index() Method\n",
    "\n",
    "Syntex: \n",
    "    list_name.index(element, start, end) "
   ]
  },
  {
   "cell_type": "code",
   "execution_count": 12,
   "metadata": {},
   "outputs": [
    {
     "name": "stdout",
     "output_type": "stream",
     "text": [
      "1\n",
      "5\n"
     ]
    }
   ],
   "source": [
    "a = [\"cat\", \"dog\", \"tiger\"]\n",
    "print(a.index(\"dog\"))\n",
    "\n",
    "\n",
    "# Working on the index() With Start and End Parameters\n",
    "arr = [10, 20, 30, 40, 50, 40, 60, 40, 70]\n",
    "# Find the index of 40 between index positions 4 and 8\n",
    "res = arr.index(40, 4, 8)\n",
    "print(res)"
   ]
  },
  {
   "cell_type": "markdown",
   "metadata": {},
   "source": [
    "iv. Python List extend() Method\n",
    "\n",
    "Syntex: \n",
    "    list_name.extend(iterable)\n",
    "\n",
    "Returns: \n",
    "    Python List extend() returns none."
   ]
  },
  {
   "cell_type": "code",
   "execution_count": 16,
   "metadata": {},
   "outputs": [
    {
     "name": "stdout",
     "output_type": "stream",
     "text": [
      "[10, 20, 30, 40, 50]\n",
      " \n",
      "Using a tuple: \n",
      "[5, 10, 15, 20, 25]\n",
      " \n",
      "Using a set: \n",
      "[1, 2, 3, 4, 5]\n",
      " \n",
      "Using a string: \n",
      "['a', 'b', 'c', 'd']\n"
     ]
    }
   ],
   "source": [
    "a = [10, 20, 30]\n",
    "b = [40, 50]\n",
    "a.extend(b)\n",
    "print(a)\n",
    "print(\" \")\n",
    "\n",
    "\n",
    "# Using a tuple\n",
    "print(\"Using a tuple: \")\n",
    "a = [5, 10, 15]\n",
    "b = (20, 25)\n",
    "a.extend(b)\n",
    "print(a) \n",
    "print(\" \")\n",
    "\n",
    "# Using a set\n",
    "print(\"Using a set: \")\n",
    "a = [1, 2, 3]\n",
    "b = {4, 5}\n",
    "a.extend(b)\n",
    "print(a)  \n",
    "print(\" \")\n",
    "\n",
    "# Using a string\n",
    "print(\"Using a string: \")\n",
    "a = ['a', 'b']\n",
    "b = \"cd\"\n",
    "a.extend(b)\n",
    "print(a)"
   ]
  },
  {
   "cell_type": "markdown",
   "metadata": {},
   "source": [
    "v. Python List max() and min() Method\n",
    "\n",
    "Syntex:\n",
    "    max(listname)\n",
    "    min(listname)\n"
   ]
  },
  {
   "cell_type": "code",
   "execution_count": 24,
   "metadata": {},
   "outputs": [
    {
     "name": "stdout",
     "output_type": "stream",
     "text": [
      "99\n",
      "5\n",
      " \n",
      "e\n",
      "$\n",
      " \n",
      "126\n",
      "-10\n"
     ]
    }
   ],
   "source": [
    "arr = [20,5,66,10,90,50,60.62,99,40,30]\n",
    "print(max(arr))\n",
    "print(min(arr))\n",
    "\n",
    "print(\" \")\n",
    "list1 = ['a', '$', 'e', 'E', '65', 'Z']\n",
    "print(max(list1))\n",
    "print(min(list1))\n",
    "\n",
    "print(\" \")\n",
    "list2 = [1,5,3,-2,-10, 25,97,126]\n",
    "print(max(list2))\n",
    "print(min(list2))"
   ]
  },
  {
   "cell_type": "markdown",
   "metadata": {},
   "source": [
    "vi. python List sort() Method\n",
    "\n",
    "Syntex: \n",
    "    list_name.sort()\n",
    "\n",
    "    list_name.sort(key=None, reverse=False)"
   ]
  },
  {
   "cell_type": "code",
   "execution_count": 33,
   "metadata": {},
   "outputs": [
    {
     "name": "stdout",
     "output_type": "stream",
     "text": [
      "Accending Order\n",
      "[1, 2, 3, 4, 5, 7, 9]\n",
      " \n",
      "Decending order\n",
      "[9, 7, 5, 4, 3, 2, 1]\n",
      " \n",
      "Custom sorting using key parameter: \n",
      "['kiwi', 'apple', 'banana', 'cherry']\n",
      " \n",
      "Sorting with a Custom Function: \n",
      "[(1, 3), (2, 2), (3, 1)]\n",
      " \n",
      "Case Insensitive Sort: \n",
      "['apple', 'Banana', 'Grape', 'pear']\n"
     ]
    }
   ],
   "source": [
    "print(\"Accending Order\")\n",
    "a = [2,5,7,3,9,4,1]\n",
    "a.sort()\n",
    "print(a)\n",
    "print(\" \")\n",
    "\n",
    "print(\"Decending order\")\n",
    "a.sort(reverse=True)\n",
    "print(a)\n",
    "print(\" \")\n",
    "\n",
    "# Custom sorting using key parameter\n",
    "print(\"Custom sorting using key parameter: \")\n",
    "a = [\"apple\", \"banana\", \"kiwi\", \"cherry\"]\n",
    "a.sort(key=len)   # According to No. of Alphabet present in a Word\n",
    "print(a)\n",
    "print(\" \")\n",
    "\n",
    "\n",
    "# Sorting with a Custom Function\n",
    "print(\"Sorting with a Custom Function: \")\n",
    "a = [(1, 3), (2, 2), (3, 1)]\n",
    "def fun(val):\n",
    "    return val[0]  # Sort Based on the 0th Element\n",
    "a.sort(key=fun)\n",
    "print(a)\n",
    "print(\" \")\n",
    "\n",
    "# Case Insensitive Sort\n",
    "print(\"Case Insensitive Sort: \")\n",
    "a = [\"Banana\", \"apple\", \"Grape\", \"pear\"]\n",
    "a.sort(key=str.lower)\n",
    "print(a)\n"
   ]
  },
  {
   "cell_type": "markdown",
   "metadata": {},
   "source": [
    "vii. Python List insert() Method\n",
    "\n",
    "Syntex: \n",
    "    list_name.insert(index, element)"
   ]
  },
  {
   "cell_type": "code",
   "execution_count": 37,
   "metadata": {},
   "outputs": [
    {
     "name": "stdout",
     "output_type": "stream",
     "text": [
      "['Apple', 'Banana', 'Orange', 'Grape']\n",
      " \n",
      "Insert in the begning of the list: \n",
      "['Cherry', 'Apple', 'Banana', 'Orange', 'Grape']\n",
      " \n",
      "insert the fruits end of the list: \n",
      "['Cherry', 'Apple', 'Banana', 'Orange', 'Papaya', 'Grape']\n"
     ]
    }
   ],
   "source": [
    "arr = [\"Apple\", \"Banana\", \"Grape\"]\n",
    "arr.insert(2, \"Orange\")\n",
    "print(arr)\n",
    "print(\" \")\n",
    "\n",
    "\n",
    "# Insert in the begning of the list\n",
    "print(\"Insert in the begning of the list: \")\n",
    "arr.insert(0, \"Cherry\")\n",
    "print(arr)\n",
    "print(\" \")\n",
    "\n",
    "# insert the fruits end of the list\n",
    "print(\"insert the fruits end of the list: \")\n",
    "arr.insert(-1, \"Papaya\")\n",
    "print(arr)\n"
   ]
  },
  {
   "cell_type": "code",
   "execution_count": 39,
   "metadata": {},
   "outputs": [
    {
     "name": "stdout",
     "output_type": "stream",
     "text": [
      "Insertion in a List Before any Element: \n",
      "[1, 2, 13, 3, 4, 5, 6]\n",
      " \n",
      "Inserting a Tuple into the List: \n",
      "[1, 2, (4, 5, 6), 3, 4, 5, 6]\n"
     ]
    }
   ],
   "source": [
    "# Insertion in a List Before any Element\n",
    "print(\"Insertion in a List Before any Element: \")\n",
    "list1 = [ 1, 2, 3, 4, 5, 6 ]\n",
    "# Element to be inserted \n",
    "element = 13 \n",
    "# Element to be inserted before 3\n",
    "beforeElement = 3 \n",
    "# Find index\n",
    "index = list1.index(beforeElement) \n",
    "# Insert element at beforeElement \n",
    "list1.insert(index, element) \n",
    "print(list1)\n",
    "print(\" \")\n",
    "\n",
    "# Inserting a Tuple into the List\n",
    "print(\"Inserting a Tuple into the List: \")\n",
    "list2 = [ 1, 2, 3, 4, 5, 6 ]\n",
    "# tuple of numbers\n",
    "num_tuple = (4, 5, 6)\n",
    "# inserting a tuple to the list\n",
    "list2.insert(2, num_tuple)\n",
    "print(list2)"
   ]
  },
  {
   "cell_type": "markdown",
   "metadata": {},
   "source": [
    "viii. Python List append() Method\n",
    "\n",
    "Syntex:\n",
    "    list.append(element)"
   ]
  },
  {
   "cell_type": "code",
   "execution_count": 34,
   "metadata": {},
   "outputs": [
    {
     "name": "stdout",
     "output_type": "stream",
     "text": [
      "[2, 4, 6, 8, 10, 12]\n",
      "Appending Elements of Different Types: \n",
      "[1, 'Nmae', 20, True]\n",
      " \n",
      "Appending List to a List: \n",
      "[2, 4, 6, [8, 10]]\n"
     ]
    }
   ],
   "source": [
    "a = [2,4,6,8,10]\n",
    "a.append(12)\n",
    "print(a)\n",
    "\n",
    "# Appending Elements of Different Types\n",
    "print(\"Appending Elements of Different Types: \")\n",
    "arr = [1,\"Nmae\", 20]\n",
    "arr.append(True)\n",
    "print(arr)\n",
    "print(\" \")\n",
    "\n",
    "# Appending List to a List\n",
    "print(\"Appending List to a List: \")\n",
    "l = [2,4,6]\n",
    "l.append([8,10])\n",
    "print(l)"
   ]
  },
  {
   "cell_type": "markdown",
   "metadata": {},
   "source": [
    "ix Python pop() And remove() Method:\n",
    "\n",
    "Syntex:\n",
    "    list_name.pop(index)\n",
    "        index (optional): index of an item to remove. Defaults to -1 (last item) if argument is not provided.\n",
    "        \n",
    "    list_name.remove(obj)   \n",
    "        obj: object to be removed from the list "
   ]
  },
  {
   "cell_type": "code",
   "execution_count": 54,
   "metadata": {},
   "outputs": [
    {
     "name": "stdout",
     "output_type": "stream",
     "text": [
      "Remove the 2nd index from list: \n",
      "Banana\n",
      "['Apple', 'Orange', 'Kiwi']\n",
      " \n",
      "Remove the last element from list: \n",
      "40\n",
      "[10, 20, 30]\n"
     ]
    }
   ],
   "source": [
    "# pop() method\n",
    "\n",
    "# Remove the 2nd index from list\n",
    "a = [\"Apple\", \"Orange\", \"Banana\", \"Kiwi\"]\n",
    "print(\"Remove the 2nd index from list: \")\n",
    "val = a.pop(2)\n",
    "print(val)\n",
    "print(a)\n",
    "print(\" \")\n",
    "\n",
    "# Using pop() without an index\n",
    "a = [10, 20, 30, 40]\n",
    "print(\"Remove the last element from list: \")\n",
    "val = a.pop()\n",
    "print(val)\n",
    "print(a)"
   ]
  },
  {
   "cell_type": "code",
   "execution_count": 64,
   "metadata": {},
   "outputs": [
    {
     "name": "stdout",
     "output_type": "stream",
     "text": [
      "['Apple', 'Banana', 'Kiwi']\n",
      " \n",
      "['a', 'c', 'd', 'b']\n"
     ]
    }
   ],
   "source": [
    "# remove() Method\n",
    "a = [\"Apple\", \"Orange\", \"Banana\", \"Kiwi\"]\n",
    "a.remove(\"Orange\")\n",
    "print(a)\n",
    "print(\" \")\n",
    "\n",
    "arr = ['a','b','c', 'd', 'b']\n",
    "arr.remove('b')\n",
    "print(arr)"
   ]
  },
  {
   "cell_type": "markdown",
   "metadata": {},
   "source": [
    "x. Python List reverse() And copy() Method\n",
    "\n",
    "syntex:\n",
    "    list_name.reverse()\n",
    "\n",
    "    list.copy()"
   ]
  },
  {
   "cell_type": "code",
   "execution_count": 67,
   "metadata": {},
   "outputs": [
    {
     "name": "stdout",
     "output_type": "stream",
     "text": [
      "[6, 2, 1, 4, 3, 2, 1]\n",
      "['date', 'cherry', 'banana', 'apple']\n",
      "[True, 2.5, 'apple', 1]\n",
      " \n",
      "Slicing Approach: \n",
      "[5, 4, 3, 2, 1]\n"
     ]
    }
   ],
   "source": [
    "# remove() Method\n",
    "a = [1, 2, 3, 4, 1, 2, 6] \n",
    "a.reverse() \n",
    "print(a)\n",
    "\n",
    "\n",
    "a = [\"apple\", \"banana\", \"cherry\", \"date\"]\n",
    "a.reverse()\n",
    "print(a)\n",
    "\n",
    "a = [1, 'apple', 2.5, True]\n",
    "a.reverse()\n",
    "print(a)\n",
    "print(\" \")\n",
    "\n",
    "# Slicing Approach\n",
    "print(\"Slicing Approach: \")\n",
    "a = [1, 2, 3, 4, 5]\n",
    "res = a[::-1]\n",
    "print(res)"
   ]
  },
  {
   "cell_type": "code",
   "execution_count": 71,
   "metadata": {},
   "outputs": [
    {
     "name": "stdout",
     "output_type": "stream",
     "text": [
      "a: [1, 2, 3]\n",
      "b: [1, 2, 3]\n",
      " \n",
      "Modifying the Copied List: \n",
      "a: [1, 2, 3]\n",
      "b: [1, 2, 3, 4]\n",
      " \n",
      "Copying a List with Mixed Data Types: \n",
      "a: [1, 'two', 3.0, [4, 5, 6], {'key': 'value'}]\n",
      "b: [1, 'two', 3.0, [4, 5, 6], {'key': 'value'}]\n"
     ]
    }
   ],
   "source": [
    "# copy() method\n",
    "\n",
    "a = [1, 2, 3]\n",
    "# Copy the list\n",
    "b = a.copy()\n",
    "print('a:', a)\n",
    "print('b:', b)\n",
    "\n",
    "print(\" \")\n",
    "\n",
    "# Modifying the Copied List\n",
    "print(\"Modifying the Copied List: \")\n",
    "a = [1, 2, 3]\n",
    "# Copy the list\n",
    "b = a.copy()\n",
    "# Add an element to the copied list\n",
    "b.append(4)\n",
    "print('a:', a)\n",
    "print('b:', b)\n",
    "\n",
    "print(\" \")\n",
    "\n",
    "# Copying a List with Mixed Data Types\n",
    "print(\"Copying a List with Mixed Data Types: \")\n",
    "a = [1, 'two', 3.0, [4, 5], {'key': 'value'}]\n",
    "b = a.copy()\n",
    "# Add an element (6) in the copied list at index 3\n",
    "b[3].append(6)\n",
    "print(\"a:\", a)\n",
    "print(\"b:\", b)\n"
   ]
  }
 ],
 "metadata": {
  "kernelspec": {
   "display_name": "Python 3",
   "language": "python",
   "name": "python3"
  },
  "language_info": {
   "codemirror_mode": {
    "name": "ipython",
    "version": 3
   },
   "file_extension": ".py",
   "mimetype": "text/x-python",
   "name": "python",
   "nbconvert_exporter": "python",
   "pygments_lexer": "ipython3",
   "version": "3.12.6"
  }
 },
 "nbformat": 4,
 "nbformat_minor": 2
}
