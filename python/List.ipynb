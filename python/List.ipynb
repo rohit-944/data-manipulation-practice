{
 "cells": [
  {
   "cell_type": "markdown",
   "metadata": {},
   "source": [
    "1. Access the Element from List"
   ]
  },
  {
   "cell_type": "code",
   "execution_count": 1,
   "metadata": {},
   "outputs": [
    {
     "name": "stdout",
     "output_type": "stream",
     "text": [
      "3\n",
      "6\n",
      "5\n"
     ]
    }
   ],
   "source": [
    "# Indexing is Simplest and Easy to Access the Element from the List\n",
    "\n",
    "a = [3,1,5,3,4,8,6,6,5,4]\n",
    "print(a[0])\n",
    "print(a[6])\n",
    "print(a[8])\n"
   ]
  },
  {
   "cell_type": "code",
   "execution_count": 1,
   "metadata": {},
   "outputs": [
    {
     "name": "stdout",
     "output_type": "stream",
     "text": [
      "Using List Concatination\n",
      "[50, 40, 90, 70]\n",
      " \n",
      "Using List Slicing\n",
      "[10, 50, 40]\n",
      " \n",
      "Using Loop\n",
      "20\n",
      "10\n",
      "50\n",
      "40\n",
      "90\n",
      "70\n"
     ]
    }
   ],
   "source": [
    "arr = [20,10,50,40,90,70]\n",
    "\n",
    "\n",
    "# Using List Concatination\n",
    "print(\"Using List Concatination\")\n",
    "res = [item for item in arr if item > 30 ]\n",
    "\n",
    "print(res)\n",
    "print(\" \")\n",
    "\n",
    "# Using List Slicing\n",
    "print(\"Using List Slicing\")\n",
    "print(arr[1:4])\n",
    "print(\" \")\n",
    "\n",
    "# Using Loop \n",
    "print(\"Using Loop\")\n",
    "for i in arr:\n",
    "    print(i)\n"
   ]
  },
  {
   "cell_type": "markdown",
   "metadata": {},
   "source": [
    "2. Change List Item"
   ]
  },
  {
   "cell_type": "code",
   "execution_count": 10,
   "metadata": {},
   "outputs": [
    {
     "name": "stdout",
     "output_type": "stream",
     "text": [
      "[10, 25, 30, 40, 50]\n"
     ]
    }
   ],
   "source": [
    "arr = [10,20,30,40,50]\n",
    "\n",
    "arr[1] = 25  \n",
    "print(arr)"
   ]
  },
  {
   "cell_type": "code",
   "execution_count": 13,
   "metadata": {},
   "outputs": [
    {
     "name": "stdout",
     "output_type": "stream",
     "text": [
      "Using Slicing for Multiple Items: \n",
      "[10, 25, 35, 40]\n",
      " \n",
      "Using List Comprehension: \n",
      "[20, 25, 35, 80]\n",
      " \n",
      "Using a Loop with enumerate(): \n",
      "[20, 30, 40, 80]\n",
      " \n",
      "Using map(): \n",
      "[21, 31, 41, 81]\n"
     ]
    }
   ],
   "source": [
    "arr = [10,20,30,40]\n",
    "\n",
    "\n",
    "# Using Slicing for Multiple Items\n",
    "print(\"Using Slicing for Multiple Items: \")\n",
    "# Replace items at indices 1 and 2\n",
    "arr[1:3] = [25, 35]  \n",
    "print(arr)\n",
    "print(\" \")\n",
    "\n",
    "# Using List Comprehension\n",
    "print(\"Using List Comprehension: \")\n",
    "# Doubling even numbers\n",
    "arr = [x * 2 if x % 2 == 0 else x for x in arr]\n",
    "print(arr)\n",
    "print(\" \")\n",
    "\n",
    "# Using a Loop with enumerate()\n",
    "print(\"Using a Loop with enumerate(): \")\n",
    "#Adding 5 to odd numbers\n",
    "for i, x in enumerate(arr):\n",
    "    if x % 2 != 0:\n",
    "        arr[i] += 5\n",
    "print(arr)\n",
    "print(\" \")\n",
    "\n",
    "# Using map()\n",
    "print(\"Using map(): \")\n",
    "# Example: Incrementing all numbers by 1\n",
    "arr = list(map(lambda x: x + 1, arr))\n",
    "print(arr)"
   ]
  },
  {
   "cell_type": "markdown",
   "metadata": {},
   "source": [
    "3. "
   ]
  }
 ],
 "metadata": {
  "kernelspec": {
   "display_name": "Python 3",
   "language": "python",
   "name": "python3"
  },
  "language_info": {
   "codemirror_mode": {
    "name": "ipython",
    "version": 3
   },
   "file_extension": ".py",
   "mimetype": "text/x-python",
   "name": "python",
   "nbconvert_exporter": "python",
   "pygments_lexer": "ipython3",
   "version": "3.12.6"
  }
 },
 "nbformat": 4,
 "nbformat_minor": 2
}
