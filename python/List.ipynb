{
 "cells": [
  {
   "cell_type": "markdown",
   "metadata": {},
   "source": [
    "1. Access the Element from List"
   ]
  },
  {
   "cell_type": "code",
   "execution_count": 1,
   "metadata": {},
   "outputs": [
    {
     "name": "stdout",
     "output_type": "stream",
     "text": [
      "3\n",
      "6\n",
      "5\n"
     ]
    }
   ],
   "source": [
    "# Indexing is Simplest and Easy to Access the Element from the List\n",
    "\n",
    "a = [3,1,5,3,4,8,6,6,5,4]\n",
    "print(a[0])\n",
    "print(a[6])\n",
    "print(a[8])\n"
   ]
  },
  {
   "cell_type": "code",
   "execution_count": 7,
   "metadata": {},
   "outputs": [
    {
     "name": "stdout",
     "output_type": "stream",
     "text": [
      "Using List Concatination\n",
      "[50, 40, 90, 70]\n",
      " \n",
      "Using List Slicing\n",
      "[10, 50, 40]\n",
      " \n",
      "Using Loop\n",
      "20\n",
      "10\n",
      "50\n",
      "40\n",
      "90\n",
      "70\n"
     ]
    }
   ],
   "source": [
    "# Using List Concatination\n",
    "print(\"Using List Concatination\")\n",
    "arr = [20,10,50,40,90,70]\n",
    "res = [item for item in arr if item > 30 ]\n",
    "\n",
    "print(res)\n",
    "print(\" \")\n",
    "\n",
    "# Using List Slicing\n",
    "print(\"Using List Slicing\")\n",
    "print(arr[1:4])\n",
    "print(\" \")\n",
    "\n",
    "# Using Loop \n",
    "print(\"Using Loop\")\n",
    "for i in arr:\n",
    "    print(i)\n"
   ]
  },
  {
   "cell_type": "markdown",
   "metadata": {},
   "source": [
    "2. Change List Item"
   ]
  },
  {
   "cell_type": "code",
   "execution_count": null,
   "metadata": {},
   "outputs": [],
   "source": []
  }
 ],
 "metadata": {
  "kernelspec": {
   "display_name": "Python 3",
   "language": "python",
   "name": "python3"
  },
  "language_info": {
   "codemirror_mode": {
    "name": "ipython",
    "version": 3
   },
   "file_extension": ".py",
   "mimetype": "text/x-python",
   "name": "python",
   "nbconvert_exporter": "python",
   "pygments_lexer": "ipython3",
   "version": "3.12.6"
  }
 },
 "nbformat": 4,
 "nbformat_minor": 2
}
