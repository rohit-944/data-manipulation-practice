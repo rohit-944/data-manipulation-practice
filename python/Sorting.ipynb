{
 "cells": [
  {
   "cell_type": "markdown",
   "metadata": {},
   "source": [
    "1. Bubble Sort"
   ]
  },
  {
   "cell_type": "code",
   "execution_count": 2,
   "metadata": {},
   "outputs": [
    {
     "name": "stdout",
     "output_type": "stream",
     "text": [
      "Sorted array is:\n",
      "11 12 22 25 34 64 90 "
     ]
    }
   ],
   "source": [
    "# Python program for implementation of Bubble Sort\n",
    "\n",
    "def bubbleSort(arr):\n",
    "    n = len(arr)\n",
    "\n",
    "    # Traverse through all array elements\n",
    "    for i in range(n):\n",
    "\n",
    "        # Last i elements are already in place\n",
    "        for j in range(0, n-i-1):\n",
    "\n",
    "            # traverse the array from 0 to n-i-1\n",
    "            # Swap if the element found is greater than the next element\n",
    "            if arr[j] > arr[j+1]:\n",
    "                arr[j], arr[j+1] = arr[j+1], arr[j]\n",
    "\n",
    "\n",
    "# Driver code to test above\n",
    "arr = [64, 34, 25, 12, 22, 11, 90]\n",
    "\n",
    "bubbleSort(arr)\n",
    "\n",
    "print(\"Sorted array is:\")\n",
    "for i in range(len(arr)):\n",
    "    print(\"%d\" % arr[i], end=\" \")"
   ]
  },
  {
   "cell_type": "code",
   "execution_count": 14,
   "metadata": {},
   "outputs": [
    {
     "name": "stdout",
     "output_type": "stream",
     "text": [
      "Sorted array :\n",
      "11 12 22 25 25 34 64 75 90 99 "
     ]
    }
   ],
   "source": [
    "# Optimized Implementation of Bubble Sort:\n",
    "\n",
    "# Python3 Optimized implementation of Bubble sort An optimized version of Bubble Sort\n",
    "\n",
    "def bubbleSort(arr):\n",
    "    n = len(arr)\n",
    "\n",
    "    # Traverse through all array elements\n",
    "    for i in range(n):\n",
    "        swapped = False\n",
    "\n",
    "        # Last i elements are already in place\n",
    "        for j in range(0, n-i-1):\n",
    "\n",
    "        # traverse the array from 0 to n-i-1. Swap if the element found is greater than the next element\n",
    "            if arr[j] > arr[j+1] :\n",
    "                arr[j], arr[j+1] = arr[j+1], arr[j]\n",
    "                swapped = True\n",
    "\n",
    "        # IF no two elements were swapped by inner loop, then break\n",
    "        if swapped == False:\n",
    "            break\n",
    "\n",
    "# Driver code to test above\n",
    "arr = [64, 34, 25, 12, 22, 11, 90,25,75,99]\n",
    "\n",
    "bubbleSort(arr)\n",
    "\n",
    "print (\"Sorted array :\")\n",
    "for i in range(len(arr)):\n",
    "    print (arr[i],end=\" \")\n"
   ]
  },
  {
   "cell_type": "markdown",
   "metadata": {},
   "source": [
    "2. Selection Sort"
   ]
  },
  {
   "cell_type": "code",
   "execution_count": 13,
   "metadata": {},
   "outputs": [
    {
     "name": "stdout",
     "output_type": "stream",
     "text": [
      "Sorted array\n",
      "11 12 22 25 64 "
     ]
    }
   ],
   "source": [
    "# Python program for implementation of Selection Sort\n",
    "import sys\n",
    "A = [64, 25, 12, 22, 11]\n",
    "\n",
    "# Traverse through all array elements\n",
    "for i in range(len(A)):\n",
    "\n",
    "    # Find the minimum element in remaining unsorted array\n",
    "    min_idx = i\n",
    "    for j in range(i+1, len(A)):\n",
    "        if A[min_idx] > A[j]:\n",
    "            min_idx = j\n",
    "\n",
    "    # Swap the found minimum element with the first element\n",
    "    A[i], A[min_idx] = A[min_idx], A[i]\n",
    "\n",
    "# Driver code to test above\n",
    "print (\"Sorted array\")\n",
    "for i in range(len(A)):\n",
    "    print(A[i],end=\" \")"
   ]
  },
  {
   "cell_type": "markdown",
   "metadata": {},
   "source": [
    "3. Insertion Sort"
   ]
  },
  {
   "cell_type": "code",
   "execution_count": 12,
   "metadata": {},
   "outputs": [
    {
     "name": "stdout",
     "output_type": "stream",
     "text": [
      "5 6 11 12 13 "
     ]
    }
   ],
   "source": [
    "# Python program for implementation of Insertion Sort\n",
    "\n",
    "# Function to do insertion sort\n",
    "def insertionSort(arr):\n",
    "\n",
    "# Traverse through 1 to len(arr)\n",
    "    for i in range(1, len(arr)):\n",
    "\n",
    "        key = arr[i]\n",
    "\n",
    "        # Move elements of arr[0..i-1], that are greater than key, to one position ahead of their current position\n",
    "        j = i-1\n",
    "        while j >= 0 and key < arr[j] :\n",
    "            arr[j + 1] = arr[j]\n",
    "            j -= 1\n",
    "            arr[j + 1] = key\n",
    "\n",
    "\n",
    "# Driver code to test above\n",
    "arr = [12, 11, 13, 5, 6]\n",
    "insertionSort(arr)\n",
    "for i in range(len(arr)):\n",
    "    \n",
    "    print(arr[i] ,end=\" \")"
   ]
  },
  {
   "cell_type": "markdown",
   "metadata": {},
   "source": [
    "4. Merge Sort"
   ]
  },
  {
   "cell_type": "code",
   "execution_count": 26,
   "metadata": {},
   "outputs": [
    {
     "name": "stdout",
     "output_type": "stream",
     "text": [
      "Given array is\n",
      "12 11 13 5 6 7 \n",
      "Sorted array is: \n",
      "5 6 7 11 12 13 \n"
     ]
    }
   ],
   "source": [
    "# Python program for implementation of MergeSort\n",
    "def mergeSort(arr):\n",
    "    if len(arr) > 1:\n",
    "\n",
    "        # Finding the mid of the array\n",
    "        mid = len(arr)//2\n",
    "\n",
    "        # Dividing the array elements\n",
    "        L = arr[:mid]\n",
    "\n",
    "        # into 2 halves\n",
    "        R = arr[mid:]\n",
    "\n",
    "        # Sorting the first half\n",
    "        mergeSort(L)\n",
    "\n",
    "        # Sorting the second half\n",
    "        mergeSort(R)\n",
    "\n",
    "        i = j = k = 0\n",
    "\n",
    "        # Copy data to temp arrays L[] and R[]\n",
    "        while i < len(L) and j < len(R):\n",
    "            if L[i] < R[j]:\n",
    "                arr[k] = L[i]\n",
    "                i += 1\n",
    "            else:\n",
    "                arr[k] = R[j]\n",
    "                j += 1\n",
    "            k += 1\n",
    "\n",
    "        # Checking if any element was left\n",
    "        while i < len(L):\n",
    "            arr[k] = L[i]\n",
    "            i += 1\n",
    "            k += 1\n",
    "\n",
    "        while j < len(R):\n",
    "            arr[k] = R[j]\n",
    "            j += 1\n",
    "            k += 1\n",
    "\n",
    "# Code to print the list\n",
    "def printList(arr):\n",
    "    for i in range(len(arr)):\n",
    "        print(arr[i], end=\" \")\n",
    "    print()\n",
    "\n",
    "# Driver Code\n",
    "if __name__ == '__main__':\n",
    "    arr = [12, 11, 13, 5, 6, 7]\n",
    "    print(\"Given array is\", end=\"\\n\")\n",
    "    printList(arr)\n",
    "    mergeSort(arr)\n",
    "    print(\"Sorted array is: \", end=\"\\n\")\n",
    "    printList(arr)\n"
   ]
  },
  {
   "cell_type": "markdown",
   "metadata": {},
   "source": [
    "5. QuickSort"
   ]
  },
  {
   "cell_type": "code",
   "execution_count": 32,
   "metadata": {},
   "outputs": [
    {
     "name": "stdout",
     "output_type": "stream",
     "text": [
      "Sorted array: [1, 5, 7, 8, 9, 10]\n"
     ]
    }
   ],
   "source": [
    "# Python3 implementation of QuickSort Function to find the partition position\n",
    "\n",
    "def partition(array, low, high):\n",
    "    # Choose the rightmost element as pivot\n",
    "    pivot = array[high]\n",
    "\n",
    "    # Pointer for greater element\n",
    "    i = low - 1\n",
    "\n",
    "    # Traverse through all elements then compare each element with pivot\n",
    "    for j in range(low, high):\n",
    "        if array[j] <= pivot:\n",
    "            # If element smaller than pivot is found then swap it with the greater element pointed by i\n",
    "            i = i + 1\n",
    "            # Swapping element at i with element at j\n",
    "            (array[i], array[j]) = (array[j], array[i])\n",
    "\n",
    "    # Swap the pivot element with the greater element specified by i\n",
    "    (array[i + 1], array[high]) = (array[high], array[i + 1])\n",
    "\n",
    "    # Return the position from where partition is done\n",
    "    return i + 1\n",
    "\n",
    "# Function to perform quicksort\n",
    "def quick_sort(array, low, high):\n",
    "    if low < high:\n",
    "        # Find pivot element such that elements smaller than pivot are on the left lements greater than pivot are on the right\n",
    "        pi = partition(array, low, high)\n",
    "\n",
    "        # Recursive call on the left of pivot\n",
    "        quick_sort(array, low, pi - 1)\n",
    "\n",
    "        # Recursive call on the right of pivot\n",
    "        quick_sort(array, pi + 1, high)\n",
    "\n",
    "\n",
    "# Driver code\n",
    "arr = [10, 7, 8, 9, 1, 5]\n",
    "quick_sort(arr, 0, len(arr) - 1)\n",
    "\n",
    "print('Sorted array:', arr)\n"
   ]
  },
  {
   "cell_type": "markdown",
   "metadata": {},
   "source": []
  }
 ],
 "metadata": {
  "kernelspec": {
   "display_name": "Python 3",
   "language": "python",
   "name": "python3"
  },
  "language_info": {
   "codemirror_mode": {
    "name": "ipython",
    "version": 3
   },
   "file_extension": ".py",
   "mimetype": "text/x-python",
   "name": "python",
   "nbconvert_exporter": "python",
   "pygments_lexer": "ipython3",
   "version": "3.12.6"
  }
 },
 "nbformat": 4,
 "nbformat_minor": 2
}
