{
 "cells": [
  {
   "cell_type": "markdown",
   "metadata": {},
   "source": [
    "1. PYTHON INPUT & OUTPUT"
   ]
  },
  {
   "cell_type": "code",
   "execution_count": 10,
   "metadata": {},
   "outputs": [
    {
     "name": "stdout",
     "output_type": "stream",
     "text": [
      "Hello Rohit\n",
      "Rohit 22 India\n"
     ]
    }
   ],
   "source": [
    "print(\"Hello Rohit\")\n",
    "\n",
    "name = \"Rohit\"\n",
    "age = 22\n",
    "address = \"India\"\n",
    "print(name, age, address) "
   ]
  },
  {
   "cell_type": "code",
   "execution_count": 9,
   "metadata": {},
   "outputs": [
    {
     "name": "stdout",
     "output_type": "stream",
     "text": [
      "Hello, I am Rohit Kumar and i am 23 year old.\n",
      "Salary Amount: $50000.00\n"
     ]
    }
   ],
   "source": [
    "Name = \"Rohit Kumar\"\n",
    "Age = 23\n",
    "Address = \"India\"\n",
    "Salary = 50000\n",
    "\n",
    "# Use of F-String\n",
    "print(f\"Hello, I am {Name} and i am {Age} year old.\")\n",
    "\n",
    "\n",
    "# Use of Format\n",
    "print(\"Salary Amount: ${:.2f}\".format(Salary) )\n",
    "\n"
   ]
  },
  {
   "cell_type": "code",
   "execution_count": null,
   "metadata": {},
   "outputs": [],
   "source": [
    "# Taking Input in Python\n",
    "\n",
    "# String Input\n",
    "name = input(\"Enter your name: \")\n",
    "print(\"Hello,\", name,)\n",
    "\n",
    "# Integer Input\n",
    "age = int(input(\"How Old You are: \"))\n",
    "print(age)\n",
    "\n",
    "# Float Input\n",
    "amount = float(input(\"What is Your Salary Amount: \"))\n",
    "print(amount)\n",
    "\n",
    "\n"
   ]
  },
  {
   "cell_type": "markdown",
   "metadata": {},
   "source": [
    "2. DATA TYPE"
   ]
  },
  {
   "cell_type": "code",
   "execution_count": null,
   "metadata": {},
   "outputs": [],
   "source": []
  }
 ],
 "metadata": {
  "kernelspec": {
   "display_name": "Python 3",
   "language": "python",
   "name": "python3"
  },
  "language_info": {
   "codemirror_mode": {
    "name": "ipython",
    "version": 3
   },
   "file_extension": ".py",
   "mimetype": "text/x-python",
   "name": "python",
   "nbconvert_exporter": "python",
   "pygments_lexer": "ipython3",
   "version": "3.12.6"
  }
 },
 "nbformat": 4,
 "nbformat_minor": 2
}
